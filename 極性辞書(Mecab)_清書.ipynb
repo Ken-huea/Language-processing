{
  "nbformat": 4,
  "nbformat_minor": 0,
  "metadata": {
    "colab": {
      "provenance": [],
      "collapsed_sections": [
        "nUQfPRImUQcg",
        "LD_tjB2RqyW0",
        "l7HJqj9jrTt3",
        "x6L-fT25tij-",
        "ji8hNs9gxLyI",
        "N4qRardO1N82"
      ],
      "authorship_tag": "ABX9TyMWn/pdpUYaO2kiJmTv84z7",
      "include_colab_link": true
    },
    "kernelspec": {
      "name": "python3",
      "display_name": "Python 3"
    },
    "language_info": {
      "name": "python"
    }
  },
  "cells": [
    {
      "cell_type": "markdown",
      "metadata": {
        "id": "view-in-github",
        "colab_type": "text"
      },
      "source": [
        "<a href=\"https://colab.research.google.com/github/Ken-huea/Language-processing/blob/main/%E6%A5%B5%E6%80%A7%E8%BE%9E%E6%9B%B8(Mecab)_%E6%B8%85%E6%9B%B8.ipynb\" target=\"_parent\"><img src=\"https://colab.research.google.com/assets/colab-badge.svg\" alt=\"Open In Colab\"/></a>"
      ]
    },
    {
      "cell_type": "markdown",
      "source": [
        "###### 資料召喚コード"
      ],
      "metadata": {
        "id": "nUQfPRImUQcg"
      }
    },
    {
      "cell_type": "markdown",
      "source": [
        "### 概要や今回のテーマ、イントロ等\n",
        "[ネガポジ](https://premium.aidemy.jp/courses/6020)"
      ],
      "metadata": {
        "id": "LD_tjB2RqyW0"
      }
    },
    {
      "cell_type": "markdown",
      "source": [
        "自然言語処理を用いて、文章などに含まれる評価・感情に関する表現を<font color=\"red\">ポジティブ/ネガティブ</font>かを分析する。\n",
        "\n",
        "感情分析（Sentiment Analysis）と呼ばれる技術の一種。\n",
        "\n",
        "ネガ・ポジ分析の手法として、極性辞書を使った単語ごとの分類や、ディープラーニングを使ったものもあります。\n",
        "\n",
        "今回は極性辞書を用いてネガポジ分析を行い、文章のネガポジポイントの平均値を算出し、全体的な総評をしてみたいと思います。\n",
        "\n",
        "その後はポジティブそうな歌詞を読み込ませて、どのくらいポジティブなのか確認したいと思います。"
      ],
      "metadata": {
        "id": "uFqRNWLbq32N"
      }
    },
    {
      "cell_type": "markdown",
      "source": [
        "## 実装"
      ],
      "metadata": {
        "id": "1u2T0mN2lfMJ"
      }
    },
    {
      "cell_type": "markdown",
      "source": [
        "### データの読込と形態素解析\n",
        "[Aidemyの教材はこちら](https://premium.aidemy.jp/courses/6020/exercises/KnmTeGK_DM)"
      ],
      "metadata": {
        "id": "ashiZNg0f_KT"
      }
    },
    {
      "cell_type": "markdown",
      "source": [
        "形態素解析の準備。　質問は\n",
        "[こちら](https://teratail.com/questions/110364)\n",
        "　[こちら](https://aidemy-communication.slack.com/archives/C03ANT80SAE/p1662181545790699)"
      ],
      "metadata": {
        "id": "EvZM9jYDgKjR"
      }
    },
    {
      "cell_type": "code",
      "source": [
        "# メカブのインポート\n",
        "!apt install aptitude\n",
        "!aptitude install mecab libmecab-dev mecab-ipadic-utf8 git make curl xz-utils file -y\n",
        "!pip install mecab-python3==0.7"
      ],
      "metadata": {
        "id": "grNFqXP6h5UG"
      },
      "execution_count": null,
      "outputs": []
    },
    {
      "cell_type": "code",
      "source": [
        "import MeCab"
      ],
      "metadata": {
        "id": "qDDVpm4ciAHy"
      },
      "execution_count": null,
      "outputs": []
    },
    {
      "cell_type": "markdown",
      "source": [
        "データの読込。適当なテキストファイルを読み込みます。"
      ],
      "metadata": {
        "id": "7U0kJ0jmSDsW"
      }
    },
    {
      "cell_type": "code",
      "source": [
        "mecab = MeCab.Tagger('')\n",
        "\n",
        "title = open('./6020_negative_positive_data/data/aidokushono_insho.txt')\n",
        "file = title.read()\n",
        "title.close()\n",
        "\n",
        "print(type(file))           # str は形態素解析できるけど、listは出来ない？\n",
        "# print(mecab.parse(file))\n",
        "file"
      ],
      "metadata": {
        "colab": {
          "base_uri": "https://localhost:8080/",
          "height": 239
        },
        "id": "riNNgY81iZTj",
        "outputId": "9420a444-ff4f-4d48-da0a-72f3aa407523"
      },
      "execution_count": null,
      "outputs": [
        {
          "output_type": "stream",
          "name": "stdout",
          "text": [
            "<class 'str'>\n"
          ]
        },
        {
          "output_type": "execute_result",
          "data": {
            "text/plain": [
              "'愛読書の印象\\n芥川龍之介\\n\\n-------------------------------------------------------\\n【テキスト中に現れる記号について】\\n\\n《》：ルビ\\n（例）諳記《あんき》してゐた\\n\\n［＃］：入力者注\\u3000主に外字の説明や、傍点の位置の指定\\n（例）又ため［＃「ため」に傍点］にもなる本である\\n-------------------------------------------------------\\n\\n\\u3000子供の時の愛読書は「西遊記」が第一である。これ等は今日でも僕の愛読書である。比喩談としてこれほどの傑作は、西洋には一つもないであらうと思ふ。名高いバンヤンの「天路歴程」なども到底この「西遊記」の敵ではない。それから「水滸伝」も愛読書の一つである。これも今以て愛読してゐる。一時は「水滸伝」の中の一百八人の豪傑の名前を悉く諳記《あんき》してゐたことがある。その時分でも押川春浪氏の冒険小説や何かよりもこの「水滸伝」だの「西遊記」だのといふ方が遥かに僕に面白かつた。\\n\\u3000中学へ入学前から徳富蘆花氏の「自然と人生」や樗牛の「平家雑感」や小島烏水氏の「日本山水論」を愛読した。同時に、夏目さんの「猫」や鏡花氏の「風流線」や緑雨の「あられ酒」を愛読した。だから人の事は笑へない。僕にも「文章倶楽部」の「青年文士録」の中にあるやうな「トルストイ、坪内士行、大町桂月」時代があつた。\\n\\u3000中学を卒業してから色んな本を読んだけれども、特に愛読した本といふものはないが、概して云ふと、ワイルドとかゴーチエとかいふやうな絢爛《けんらん》とした小説が好きであつた。それは僕の気質からも来てゐるであらうけれども、一つは慥《たし》かに日本の自然主義的な小説に厭きた反動であらうと思ふ。ところが、高等学校を卒業する前後から、どういふものか趣味や物の見方に大きな曲折が起つて、前に言つたワイルドとかゴーチエとかといふ作家のものがひどくいやになつた。ストリンドベルクなどに傾倒したのはこの頃である。その時分の僕の心持からいふと、ミケエロ・アンヂエロ風な力を持つてゐない芸術はすべて瓦礫のやうに感じられた。これは当時読んだ「ジヤンクリストフ」などの影響であつたらうと思ふ。\\n\\u3000さういふ心持が大学を卒業する後までも続いたが、段々燃えるやうな力の崇拝もうすらいで、一年前から静かな力のある書物に最も心を惹かれるやうになつてゐる。但、静かなと言つてもたゞ静かだけでも力のないものには余り興味がない。スタンダールやメリメエや日本物で西鶴などの小説はこの点で今の僕には面白くもあり、又ため［＃「ため」に傍点］にもなる本である。\\n\\u3000序ながら附け加へておくが、此間「ジヤンクリストフ」を出して読んで見たが、昔ほど感興が乗らなかつた。あの時分の本はだめなのかと思つたが、「アンナカレニナ」を出して二三章読んで見たら、これは昔のやうに有難い気がした。\\n\\n\\n\\n底本：「芥川龍之介全集\\u3000第六巻」岩波書店\\n\\u3000\\u3000\\u30001996（平成8）年4月8日発行\\n初出：「文章倶楽部\\u3000第5年第8号」\\n\\u3000\\u3000\\u30001920（大正9）年8月1日発行\\n※初出誌に、顔写真と「曇天の水動かずよ芹の中」の句の筆跡写真と共に掲載された。\\n入力：砂場清隆\\n校正：高柳典子\\n2006年2月21日作成\\n2006年4月5日修正\\n青空文庫作成ファイル：\\nこのファイルは、インターネットの図書館、青空文庫（http://www.aozora.gr.jp/）で作られました。入力、校正、制作にあたったのは、ボランティアの皆さんです。\\n'"
            ],
            "application/vnd.google.colaboratory.intrinsic+json": {
              "type": "string"
            }
          },
          "metadata": {},
          "execution_count": 129
        }
      ]
    },
    {
      "cell_type": "markdown",
      "source": [
        "こちらの独自関数にかけて、形態素解析結果を辞書&リスト型にしています。独自関数の機能は\n",
        "\n",
        "- 分かち書きを行う。\n",
        "- 邪魔な要素を削除する\n",
        "- 分かち書きの結果を辞書型にして格納する\n",
        "\n",
        "こちらAidemyの教材(形態素解析)を私なりにアレンジしたものです。形態素解析しても、分かち書きの部分しか用いないならば\n",
        "\n",
        "こっちの方が無駄がなく、\n",
        "可読性も高いと思いますが、いかがでしょうか？\n"
      ],
      "metadata": {
        "id": "QEHajAKeTp9d"
      }
    },
    {
      "cell_type": "code",
      "source": [
        "import re\n",
        "mecab = MeCab.Tagger('-Owakati')                     # 分かち書きに指定\n",
        "def get_diclist(file):\n",
        "    parsed = mecab.parse(file)                       # 分かち書きを行います。\n",
        "    # 解析結果を改行ごとに区切ります\n",
        "    lines = parsed.split(' ')                        # 文章を\" \" 空行で区切っています。\n",
        "    lines = lines[:-2]                               # これが機能していない？\n",
        "    #解析結果のリストを作成します\n",
        "    diclist = []                                    # 解析結果はここに格納されます。\n",
        "    for word in lines:\n",
        "        datalist = {'BaseForm':word}                # 分かち書き結果をpick upして\"BaseForm\"というkey名を付けてvalueとして格納。\n",
        "        diclist.append(datalist)                    # 追加\n",
        "    return(diclist)\n",
        "\n",
        "# こちらAidemyの教材(形態素解析)を私なりにアレンジしたものです。形態素解析しても、分かち書きの部分しか用いないならばこっちの方が無駄がなく、可読性も高いと思いますが、いかがでしょうか？"
      ],
      "metadata": {
        "id": "x2dFvJbpdOgv"
      },
      "execution_count": null,
      "outputs": []
    },
    {
      "cell_type": "code",
      "source": [
        "# このfileはstr 返り値はlist　Aidemyの教材と結果は同じ。 \n",
        "wordlist = get_diclist(file)\n",
        "print(wordlist)"
      ],
      "metadata": {
        "colab": {
          "base_uri": "https://localhost:8080/"
        },
        "id": "dv9jLmfHdtmB",
        "outputId": "80e2f337-0484-49ec-ddf3-610cc31aa15b"
      },
      "execution_count": null,
      "outputs": [
        {
          "output_type": "stream",
          "name": "stdout",
          "text": [
            "[{'BaseForm': '愛読'}, {'BaseForm': '書'}, {'BaseForm': 'の'}, {'BaseForm': '印象'}, {'BaseForm': '芥川'}, {'BaseForm': '龍之介'}, {'BaseForm': '-'}, {'BaseForm': '-'}, {'BaseForm': '-'}, {'BaseForm': '-'}, {'BaseForm': '-'}, {'BaseForm': '-'}, {'BaseForm': '-'}, {'BaseForm': '-'}, {'BaseForm': '-'}, {'BaseForm': '-'}, {'BaseForm': '-'}, {'BaseForm': '-'}, {'BaseForm': '-'}, {'BaseForm': '-'}, {'BaseForm': '-'}, {'BaseForm': '-'}, {'BaseForm': '-'}, {'BaseForm': '-'}, {'BaseForm': '-'}, {'BaseForm': '-'}, {'BaseForm': '-'}, {'BaseForm': '-'}, {'BaseForm': '-'}, {'BaseForm': '-'}, {'BaseForm': '-'}, {'BaseForm': '-'}, {'BaseForm': '-'}, {'BaseForm': '-'}, {'BaseForm': '-'}, {'BaseForm': '-'}, {'BaseForm': '-------------------------'}, {'BaseForm': '【'}, {'BaseForm': 'テキスト'}, {'BaseForm': '中'}, {'BaseForm': 'に'}, {'BaseForm': '現れる'}, {'BaseForm': '記号'}, {'BaseForm': 'について'}, {'BaseForm': '】'}, {'BaseForm': '《'}, {'BaseForm': '》'}, {'BaseForm': '：'}, {'BaseForm': 'ルビ'}, {'BaseForm': '（'}, {'BaseForm': '例'}, {'BaseForm': '）'}, {'BaseForm': '諳記'}, {'BaseForm': '《'}, {'BaseForm': 'あん'}, {'BaseForm': 'き'}, {'BaseForm': '》'}, {'BaseForm': 'し'}, {'BaseForm': 'て'}, {'BaseForm': 'ゐ'}, {'BaseForm': 'た'}, {'BaseForm': '［＃］：'}, {'BaseForm': '入力'}, {'BaseForm': '者'}, {'BaseForm': '注'}, {'BaseForm': '\\u3000'}, {'BaseForm': '主'}, {'BaseForm': 'に'}, {'BaseForm': '外字'}, {'BaseForm': 'の'}, {'BaseForm': '説明'}, {'BaseForm': 'や'}, {'BaseForm': '、'}, {'BaseForm': '傍点'}, {'BaseForm': 'の'}, {'BaseForm': '位置'}, {'BaseForm': 'の'}, {'BaseForm': '指定'}, {'BaseForm': '（'}, {'BaseForm': '例'}, {'BaseForm': '）'}, {'BaseForm': '又'}, {'BaseForm': 'ため'}, {'BaseForm': '［＃「'}, {'BaseForm': 'ため'}, {'BaseForm': '」'}, {'BaseForm': 'に'}, {'BaseForm': '傍点'}, {'BaseForm': '］'}, {'BaseForm': 'に'}, {'BaseForm': 'も'}, {'BaseForm': 'なる'}, {'BaseForm': '本'}, {'BaseForm': 'で'}, {'BaseForm': 'ある'}, {'BaseForm': '-'}, {'BaseForm': '-'}, {'BaseForm': '-'}, {'BaseForm': '-'}, {'BaseForm': '-'}, {'BaseForm': '-'}, {'BaseForm': '-'}, {'BaseForm': '-'}, {'BaseForm': '-'}, {'BaseForm': '-'}, {'BaseForm': '-'}, {'BaseForm': '-'}, {'BaseForm': '-'}, {'BaseForm': '-'}, {'BaseForm': '-'}, {'BaseForm': '-'}, {'BaseForm': '-'}, {'BaseForm': '-'}, {'BaseForm': '-'}, {'BaseForm': '-'}, {'BaseForm': '-'}, {'BaseForm': '-'}, {'BaseForm': '-'}, {'BaseForm': '-'}, {'BaseForm': '-'}, {'BaseForm': '-'}, {'BaseForm': '-'}, {'BaseForm': '-'}, {'BaseForm': '-'}, {'BaseForm': '-'}, {'BaseForm': '-------------------------'}, {'BaseForm': '\\u3000'}, {'BaseForm': '子供'}, {'BaseForm': 'の'}, {'BaseForm': '時'}, {'BaseForm': 'の'}, {'BaseForm': '愛読'}, {'BaseForm': '書'}, {'BaseForm': 'は'}, {'BaseForm': '「'}, {'BaseForm': '西遊'}, {'BaseForm': '記'}, {'BaseForm': '」'}, {'BaseForm': 'が'}, {'BaseForm': '第'}, {'BaseForm': '一'}, {'BaseForm': 'で'}, {'BaseForm': 'ある'}, {'BaseForm': '。'}, {'BaseForm': 'これ'}, {'BaseForm': '等'}, {'BaseForm': 'は'}, {'BaseForm': '今日'}, {'BaseForm': 'でも'}, {'BaseForm': '僕'}, {'BaseForm': 'の'}, {'BaseForm': '愛読'}, {'BaseForm': '書'}, {'BaseForm': 'で'}, {'BaseForm': 'ある'}, {'BaseForm': '。'}, {'BaseForm': '比喩'}, {'BaseForm': '談'}, {'BaseForm': 'として'}, {'BaseForm': 'これ'}, {'BaseForm': 'ほど'}, {'BaseForm': 'の'}, {'BaseForm': '傑作'}, {'BaseForm': 'は'}, {'BaseForm': '、'}, {'BaseForm': '西洋'}, {'BaseForm': 'に'}, {'BaseForm': 'は'}, {'BaseForm': '一つ'}, {'BaseForm': 'も'}, {'BaseForm': 'ない'}, {'BaseForm': 'で'}, {'BaseForm': 'あら'}, {'BaseForm': 'う'}, {'BaseForm': 'と'}, {'BaseForm': '思ふ'}, {'BaseForm': '。'}, {'BaseForm': '名高い'}, {'BaseForm': 'バンヤン'}, {'BaseForm': 'の'}, {'BaseForm': '「'}, {'BaseForm': '天'}, {'BaseForm': '路'}, {'BaseForm': '歴程'}, {'BaseForm': '」'}, {'BaseForm': 'など'}, {'BaseForm': 'も'}, {'BaseForm': '到底'}, {'BaseForm': 'この'}, {'BaseForm': '「'}, {'BaseForm': '西遊'}, {'BaseForm': '記'}, {'BaseForm': '」'}, {'BaseForm': 'の'}, {'BaseForm': '敵'}, {'BaseForm': 'で'}, {'BaseForm': 'は'}, {'BaseForm': 'ない'}, {'BaseForm': '。'}, {'BaseForm': 'それから'}, {'BaseForm': '「'}, {'BaseForm': '水'}, {'BaseForm': '滸伝'}, {'BaseForm': '」'}, {'BaseForm': 'も'}, {'BaseForm': '愛読'}, {'BaseForm': '書'}, {'BaseForm': 'の'}, {'BaseForm': '一つ'}, {'BaseForm': 'で'}, {'BaseForm': 'ある'}, {'BaseForm': '。'}, {'BaseForm': 'これ'}, {'BaseForm': 'も'}, {'BaseForm': '今'}, {'BaseForm': '以'}, {'BaseForm': 'て'}, {'BaseForm': '愛読'}, {'BaseForm': 'し'}, {'BaseForm': 'て'}, {'BaseForm': 'ゐる'}, {'BaseForm': '。'}, {'BaseForm': '一時'}, {'BaseForm': 'は'}, {'BaseForm': '「'}, {'BaseForm': '水'}, {'BaseForm': '滸伝'}, {'BaseForm': '」'}, {'BaseForm': 'の'}, {'BaseForm': '中'}, {'BaseForm': 'の'}, {'BaseForm': '一'}, {'BaseForm': '百'}, {'BaseForm': '八'}, {'BaseForm': '人'}, {'BaseForm': 'の'}, {'BaseForm': '豪傑'}, {'BaseForm': 'の'}, {'BaseForm': '名前'}, {'BaseForm': 'を'}, {'BaseForm': '悉く'}, {'BaseForm': '諳記'}, {'BaseForm': '《'}, {'BaseForm': 'あん'}, {'BaseForm': 'き'}, {'BaseForm': '》'}, {'BaseForm': 'し'}, {'BaseForm': 'て'}, {'BaseForm': 'ゐ'}, {'BaseForm': 'た'}, {'BaseForm': 'こと'}, {'BaseForm': 'が'}, {'BaseForm': 'ある'}, {'BaseForm': '。'}, {'BaseForm': 'その'}, {'BaseForm': '時分'}, {'BaseForm': 'で'}, {'BaseForm': 'も'}, {'BaseForm': '押川'}, {'BaseForm': '春浪'}, {'BaseForm': '氏'}, {'BaseForm': 'の'}, {'BaseForm': '冒険'}, {'BaseForm': '小説'}, {'BaseForm': 'や'}, {'BaseForm': '何'}, {'BaseForm': 'か'}, {'BaseForm': 'より'}, {'BaseForm': 'も'}, {'BaseForm': 'この'}, {'BaseForm': '「'}, {'BaseForm': '水'}, {'BaseForm': '滸伝'}, {'BaseForm': '」'}, {'BaseForm': 'だの'}, {'BaseForm': '「'}, {'BaseForm': '西遊'}, {'BaseForm': '記'}, {'BaseForm': '」'}, {'BaseForm': 'だ'}, {'BaseForm': 'の'}, {'BaseForm': 'といふ'}, {'BaseForm': '方'}, {'BaseForm': 'が'}, {'BaseForm': '遥か'}, {'BaseForm': 'に'}, {'BaseForm': '僕'}, {'BaseForm': 'に'}, {'BaseForm': '面白'}, {'BaseForm': 'かつ'}, {'BaseForm': 'た'}, {'BaseForm': '。'}, {'BaseForm': '\\u3000'}, {'BaseForm': '中学'}, {'BaseForm': 'へ'}, {'BaseForm': '入学'}, {'BaseForm': '前'}, {'BaseForm': 'から'}, {'BaseForm': '徳富'}, {'BaseForm': '蘆花'}, {'BaseForm': '氏'}, {'BaseForm': 'の'}, {'BaseForm': '「'}, {'BaseForm': '自然'}, {'BaseForm': 'と'}, {'BaseForm': '人生'}, {'BaseForm': '」'}, {'BaseForm': 'や'}, {'BaseForm': '樗'}, {'BaseForm': '牛'}, {'BaseForm': 'の'}, {'BaseForm': '「'}, {'BaseForm': '平家'}, {'BaseForm': '雑感'}, {'BaseForm': '」'}, {'BaseForm': 'や'}, {'BaseForm': '小島'}, {'BaseForm': '烏水'}, {'BaseForm': '氏'}, {'BaseForm': 'の'}, {'BaseForm': '「'}, {'BaseForm': '日本'}, {'BaseForm': '山水'}, {'BaseForm': '論'}, {'BaseForm': '」'}, {'BaseForm': 'を'}, {'BaseForm': '愛読'}, {'BaseForm': 'し'}, {'BaseForm': 'た'}, {'BaseForm': '。'}, {'BaseForm': '同時に'}, {'BaseForm': '、'}, {'BaseForm': '夏目'}, {'BaseForm': 'さん'}, {'BaseForm': 'の'}, {'BaseForm': '「'}, {'BaseForm': '猫'}, {'BaseForm': '」'}, {'BaseForm': 'や'}, {'BaseForm': '鏡花'}, {'BaseForm': '氏'}, {'BaseForm': 'の'}, {'BaseForm': '「'}, {'BaseForm': '風流'}, {'BaseForm': '線'}, {'BaseForm': '」'}, {'BaseForm': 'や'}, {'BaseForm': '緑'}, {'BaseForm': '雨'}, {'BaseForm': 'の'}, {'BaseForm': '「'}, {'BaseForm': 'あら'}, {'BaseForm': 'れ'}, {'BaseForm': '酒'}, {'BaseForm': '」'}, {'BaseForm': 'を'}, {'BaseForm': '愛読'}, {'BaseForm': 'し'}, {'BaseForm': 'た'}, {'BaseForm': '。'}, {'BaseForm': 'だから'}, {'BaseForm': '人'}, {'BaseForm': 'の'}, {'BaseForm': '事'}, {'BaseForm': 'は'}, {'BaseForm': '笑'}, {'BaseForm': 'へ'}, {'BaseForm': 'ない'}, {'BaseForm': '。'}, {'BaseForm': '僕'}, {'BaseForm': 'に'}, {'BaseForm': 'も'}, {'BaseForm': '「'}, {'BaseForm': '文章'}, {'BaseForm': '倶楽部'}, {'BaseForm': '」'}, {'BaseForm': 'の'}, {'BaseForm': '「'}, {'BaseForm': '青年'}, {'BaseForm': '文士'}, {'BaseForm': '録'}, {'BaseForm': '」'}, {'BaseForm': 'の'}, {'BaseForm': '中'}, {'BaseForm': 'に'}, {'BaseForm': 'ある'}, {'BaseForm': 'やう'}, {'BaseForm': 'な'}, {'BaseForm': '「'}, {'BaseForm': 'トルストイ'}, {'BaseForm': '、'}, {'BaseForm': '坪内'}, {'BaseForm': '士行'}, {'BaseForm': '、'}, {'BaseForm': '大町'}, {'BaseForm': '桂月'}, {'BaseForm': '」'}, {'BaseForm': '時代'}, {'BaseForm': 'が'}, {'BaseForm': 'あつ'}, {'BaseForm': 'た'}, {'BaseForm': '。'}, {'BaseForm': '\\u3000'}, {'BaseForm': '中学'}, {'BaseForm': 'を'}, {'BaseForm': '卒業'}, {'BaseForm': 'し'}, {'BaseForm': 'て'}, {'BaseForm': 'から'}, {'BaseForm': '色んな'}, {'BaseForm': '本'}, {'BaseForm': 'を'}, {'BaseForm': '読ん'}, {'BaseForm': 'だ'}, {'BaseForm': 'けれども'}, {'BaseForm': '、'}, {'BaseForm': '特に'}, {'BaseForm': '愛読'}, {'BaseForm': 'し'}, {'BaseForm': 'た'}, {'BaseForm': '本'}, {'BaseForm': 'といふ'}, {'BaseForm': 'もの'}, {'BaseForm': 'は'}, {'BaseForm': 'ない'}, {'BaseForm': 'が'}, {'BaseForm': '、'}, {'BaseForm': '概して'}, {'BaseForm': '云'}, {'BaseForm': 'ふと'}, {'BaseForm': '、'}, {'BaseForm': 'ワイルド'}, {'BaseForm': 'とか'}, {'BaseForm': 'ゴー'}, {'BaseForm': 'チエ'}, {'BaseForm': 'とかいふ'}, {'BaseForm': 'やう'}, {'BaseForm': 'な'}, {'BaseForm': '絢爛'}, {'BaseForm': '《'}, {'BaseForm': 'けんらん'}, {'BaseForm': '》'}, {'BaseForm': 'と'}, {'BaseForm': 'し'}, {'BaseForm': 'た'}, {'BaseForm': '小説'}, {'BaseForm': 'が'}, {'BaseForm': '好き'}, {'BaseForm': 'で'}, {'BaseForm': 'あつ'}, {'BaseForm': 'た'}, {'BaseForm': '。'}, {'BaseForm': 'それ'}, {'BaseForm': 'は'}, {'BaseForm': '僕'}, {'BaseForm': 'の'}, {'BaseForm': '気質'}, {'BaseForm': 'から'}, {'BaseForm': 'も'}, {'BaseForm': '来'}, {'BaseForm': 'て'}, {'BaseForm': 'ゐる'}, {'BaseForm': 'で'}, {'BaseForm': 'あらう'}, {'BaseForm': 'けれども'}, {'BaseForm': '、'}, {'BaseForm': '一つ'}, {'BaseForm': 'は'}, {'BaseForm': '慥'}, {'BaseForm': '《'}, {'BaseForm': 'たし'}, {'BaseForm': '》'}, {'BaseForm': 'か'}, {'BaseForm': 'に'}, {'BaseForm': '日本'}, {'BaseForm': 'の'}, {'BaseForm': '自然'}, {'BaseForm': '主義'}, {'BaseForm': '的'}, {'BaseForm': 'な'}, {'BaseForm': '小説'}, {'BaseForm': 'に'}, {'BaseForm': '厭き'}, {'BaseForm': 'た'}, {'BaseForm': '反動'}, {'BaseForm': 'で'}, {'BaseForm': 'あらう'}, {'BaseForm': 'と'}, {'BaseForm': '思ふ'}, {'BaseForm': '。'}, {'BaseForm': 'ところが'}, {'BaseForm': '、'}, {'BaseForm': '高等'}, {'BaseForm': '学校'}, {'BaseForm': 'を'}, {'BaseForm': '卒業'}, {'BaseForm': 'する'}, {'BaseForm': '前後'}, {'BaseForm': 'から'}, {'BaseForm': '、'}, {'BaseForm': 'どう'}, {'BaseForm': 'いふ'}, {'BaseForm': 'もの'}, {'BaseForm': 'か'}, {'BaseForm': '趣味'}, {'BaseForm': 'や'}, {'BaseForm': '物'}, {'BaseForm': 'の'}, {'BaseForm': '見方'}, {'BaseForm': 'に'}, {'BaseForm': '大きな'}, {'BaseForm': '曲折'}, {'BaseForm': 'が'}, {'BaseForm': '起つ'}, {'BaseForm': 'て'}, {'BaseForm': '、'}, {'BaseForm': '前'}, {'BaseForm': 'に'}, {'BaseForm': '言'}, {'BaseForm': 'つた'}, {'BaseForm': 'ワイルド'}, {'BaseForm': 'とか'}, {'BaseForm': 'ゴー'}, {'BaseForm': 'チエ'}, {'BaseForm': 'とか'}, {'BaseForm': 'といふ'}, {'BaseForm': '作家'}, {'BaseForm': 'の'}, {'BaseForm': 'もの'}, {'BaseForm': 'が'}, {'BaseForm': 'ひどく'}, {'BaseForm': 'いや'}, {'BaseForm': 'に'}, {'BaseForm': 'なつ'}, {'BaseForm': 'た'}, {'BaseForm': '。'}, {'BaseForm': 'ストリンドベルク'}, {'BaseForm': 'など'}, {'BaseForm': 'に'}, {'BaseForm': '傾倒'}, {'BaseForm': 'し'}, {'BaseForm': 'た'}, {'BaseForm': 'の'}, {'BaseForm': 'は'}, {'BaseForm': 'この'}, {'BaseForm': '頃'}, {'BaseForm': 'で'}, {'BaseForm': 'ある'}, {'BaseForm': '。'}, {'BaseForm': 'その'}, {'BaseForm': '時分'}, {'BaseForm': 'の'}, {'BaseForm': '僕'}, {'BaseForm': 'の'}, {'BaseForm': '心持'}, {'BaseForm': 'から'}, {'BaseForm': 'いふ'}, {'BaseForm': 'と'}, {'BaseForm': '、'}, {'BaseForm': 'ミケエロ・アンヂエロ'}, {'BaseForm': '風'}, {'BaseForm': 'な'}, {'BaseForm': '力'}, {'BaseForm': 'を'}, {'BaseForm': '持つ'}, {'BaseForm': 'て'}, {'BaseForm': 'ゐ'}, {'BaseForm': 'ない'}, {'BaseForm': '芸術'}, {'BaseForm': 'は'}, {'BaseForm': 'すべて'}, {'BaseForm': '瓦礫'}, {'BaseForm': 'の'}, {'BaseForm': 'やう'}, {'BaseForm': 'に'}, {'BaseForm': '感じ'}, {'BaseForm': 'られ'}, {'BaseForm': 'た'}, {'BaseForm': '。'}, {'BaseForm': 'これ'}, {'BaseForm': 'は'}, {'BaseForm': '当時'}, {'BaseForm': '読ん'}, {'BaseForm': 'だ'}, {'BaseForm': '「'}, {'BaseForm': 'ジヤンクリストフ'}, {'BaseForm': '」'}, {'BaseForm': 'など'}, {'BaseForm': 'の'}, {'BaseForm': '影響'}, {'BaseForm': 'で'}, {'BaseForm': 'あつ'}, {'BaseForm': 'たら'}, {'BaseForm': 'う'}, {'BaseForm': 'と'}, {'BaseForm': '思ふ'}, {'BaseForm': '。'}, {'BaseForm': '\\u3000'}, {'BaseForm': 'さ'}, {'BaseForm': 'う'}, {'BaseForm': 'いふ'}, {'BaseForm': '心持'}, {'BaseForm': 'が'}, {'BaseForm': '大学'}, {'BaseForm': 'を'}, {'BaseForm': '卒業'}, {'BaseForm': 'する'}, {'BaseForm': '後'}, {'BaseForm': 'まで'}, {'BaseForm': 'も'}, {'BaseForm': '続い'}, {'BaseForm': 'た'}, {'BaseForm': 'が'}, {'BaseForm': '、'}, {'BaseForm': '段々'}, {'BaseForm': '燃える'}, {'BaseForm': 'やう'}, {'BaseForm': 'な'}, {'BaseForm': '力'}, {'BaseForm': 'の'}, {'BaseForm': '崇拝'}, {'BaseForm': 'も'}, {'BaseForm': 'うすらい'}, {'BaseForm': 'で'}, {'BaseForm': '、'}, {'BaseForm': '一'}, {'BaseForm': '年'}, {'BaseForm': '前'}, {'BaseForm': 'から'}, {'BaseForm': '静か'}, {'BaseForm': 'な'}, {'BaseForm': '力'}, {'BaseForm': 'の'}, {'BaseForm': 'ある'}, {'BaseForm': '書物'}, {'BaseForm': 'に'}, {'BaseForm': '最も'}, {'BaseForm': '心'}, {'BaseForm': 'を'}, {'BaseForm': '惹か'}, {'BaseForm': 'れる'}, {'BaseForm': 'やう'}, {'BaseForm': 'に'}, {'BaseForm': 'なつ'}, {'BaseForm': 'て'}, {'BaseForm': 'ゐる'}, {'BaseForm': '。'}, {'BaseForm': '但'}, {'BaseForm': '、'}, {'BaseForm': '静か'}, {'BaseForm': 'な'}, {'BaseForm': 'と'}, {'BaseForm': '言'}, {'BaseForm': 'つて'}, {'BaseForm': 'も'}, {'BaseForm': 'た'}, {'BaseForm': 'ゞ'}, {'BaseForm': '静か'}, {'BaseForm': 'だけ'}, {'BaseForm': 'でも'}, {'BaseForm': '力'}, {'BaseForm': 'の'}, {'BaseForm': 'ない'}, {'BaseForm': 'もの'}, {'BaseForm': 'に'}, {'BaseForm': 'は'}, {'BaseForm': '余り'}, {'BaseForm': '興味'}, {'BaseForm': 'が'}, {'BaseForm': 'ない'}, {'BaseForm': '。'}, {'BaseForm': 'スタンダール'}, {'BaseForm': 'や'}, {'BaseForm': 'メリメエ'}, {'BaseForm': 'や'}, {'BaseForm': '日本'}, {'BaseForm': '物'}, {'BaseForm': 'で'}, {'BaseForm': '西鶴'}, {'BaseForm': 'など'}, {'BaseForm': 'の'}, {'BaseForm': '小説'}, {'BaseForm': 'は'}, {'BaseForm': 'この'}, {'BaseForm': '点'}, {'BaseForm': 'で'}, {'BaseForm': '今'}, {'BaseForm': 'の'}, {'BaseForm': '僕'}, {'BaseForm': 'に'}, {'BaseForm': 'は'}, {'BaseForm': '面白く'}, {'BaseForm': 'も'}, {'BaseForm': 'あり'}, {'BaseForm': '、'}, {'BaseForm': '又'}, {'BaseForm': 'ため'}, {'BaseForm': '［＃「'}, {'BaseForm': 'ため'}, {'BaseForm': '」'}, {'BaseForm': 'に'}, {'BaseForm': '傍点'}, {'BaseForm': '］'}, {'BaseForm': 'に'}, {'BaseForm': 'も'}, {'BaseForm': 'なる'}, {'BaseForm': '本'}, {'BaseForm': 'で'}, {'BaseForm': 'ある'}, {'BaseForm': '。'}, {'BaseForm': '\\u3000'}, {'BaseForm': '序'}, {'BaseForm': 'ながら'}, {'BaseForm': '附け'}, {'BaseForm': '加'}, {'BaseForm': 'へ'}, {'BaseForm': 'て'}, {'BaseForm': 'おく'}, {'BaseForm': 'が'}, {'BaseForm': '、'}, {'BaseForm': '此間'}, {'BaseForm': '「'}, {'BaseForm': 'ジヤンクリストフ'}, {'BaseForm': '」'}, {'BaseForm': 'を'}, {'BaseForm': '出し'}, {'BaseForm': 'て'}, {'BaseForm': '読ん'}, {'BaseForm': 'で'}, {'BaseForm': '見'}, {'BaseForm': 'た'}, {'BaseForm': 'が'}, {'BaseForm': '、'}, {'BaseForm': '昔'}, {'BaseForm': 'ほど'}, {'BaseForm': '感興'}, {'BaseForm': 'が'}, {'BaseForm': '乗ら'}, {'BaseForm': 'なかつ'}, {'BaseForm': 'た'}, {'BaseForm': '。'}, {'BaseForm': 'あの'}, {'BaseForm': '時分'}, {'BaseForm': 'の'}, {'BaseForm': '本'}, {'BaseForm': 'は'}, {'BaseForm': 'だめ'}, {'BaseForm': 'な'}, {'BaseForm': 'の'}, {'BaseForm': 'か'}, {'BaseForm': 'と'}, {'BaseForm': '思'}, {'BaseForm': 'つ'}, {'BaseForm': 'た'}, {'BaseForm': 'が'}, {'BaseForm': '、'}, {'BaseForm': '「'}, {'BaseForm': 'アンナカレニナ'}, {'BaseForm': '」'}, {'BaseForm': 'を'}, {'BaseForm': '出し'}, {'BaseForm': 'て'}, {'BaseForm': '二'}, {'BaseForm': '三'}, {'BaseForm': '章'}, {'BaseForm': '読ん'}, {'BaseForm': 'で'}, {'BaseForm': '見'}, {'BaseForm': 'たら'}, {'BaseForm': '、'}, {'BaseForm': 'これ'}, {'BaseForm': 'は'}, {'BaseForm': '昔'}, {'BaseForm': 'の'}, {'BaseForm': 'やう'}, {'BaseForm': 'に'}, {'BaseForm': '有難い'}, {'BaseForm': '気'}, {'BaseForm': 'が'}, {'BaseForm': 'し'}, {'BaseForm': 'た'}, {'BaseForm': '。'}, {'BaseForm': '底本'}, {'BaseForm': '：'}, {'BaseForm': '「'}, {'BaseForm': '芥川'}, {'BaseForm': '龍之介'}, {'BaseForm': '全集'}, {'BaseForm': '\\u3000'}, {'BaseForm': '第'}, {'BaseForm': '六'}, {'BaseForm': '巻'}, {'BaseForm': '」'}, {'BaseForm': '岩波書店'}, {'BaseForm': '\\u3000'}, {'BaseForm': '\\u3000'}, {'BaseForm': '\\u3000'}, {'BaseForm': '1996'}, {'BaseForm': '（'}, {'BaseForm': '平成'}, {'BaseForm': '8'}, {'BaseForm': '）'}, {'BaseForm': '年'}, {'BaseForm': '4'}, {'BaseForm': '月'}, {'BaseForm': '8'}, {'BaseForm': '日'}, {'BaseForm': '発行'}, {'BaseForm': '初出'}, {'BaseForm': '：'}, {'BaseForm': '「'}, {'BaseForm': '文章'}, {'BaseForm': '倶楽部'}, {'BaseForm': '\\u3000'}, {'BaseForm': '第'}, {'BaseForm': '5'}, {'BaseForm': '年'}, {'BaseForm': '第'}, {'BaseForm': '8'}, {'BaseForm': '号'}, {'BaseForm': '」'}, {'BaseForm': '\\u3000'}, {'BaseForm': '\\u3000'}, {'BaseForm': '\\u3000'}, {'BaseForm': '1920'}, {'BaseForm': '（'}, {'BaseForm': '大正'}, {'BaseForm': '9'}, {'BaseForm': '）'}, {'BaseForm': '年'}, {'BaseForm': '8'}, {'BaseForm': '月'}, {'BaseForm': '1'}, {'BaseForm': '日'}, {'BaseForm': '発行'}, {'BaseForm': '※'}, {'BaseForm': '初出'}, {'BaseForm': '誌'}, {'BaseForm': 'に'}, {'BaseForm': '、'}, {'BaseForm': '顔'}, {'BaseForm': '写真'}, {'BaseForm': 'と'}, {'BaseForm': '「'}, {'BaseForm': '曇天'}, {'BaseForm': 'の'}, {'BaseForm': '水'}, {'BaseForm': '動か'}, {'BaseForm': 'ず'}, {'BaseForm': 'よ'}, {'BaseForm': '芹'}, {'BaseForm': 'の'}, {'BaseForm': '中'}, {'BaseForm': '」'}, {'BaseForm': 'の'}, {'BaseForm': '句'}, {'BaseForm': 'の'}, {'BaseForm': '筆跡'}, {'BaseForm': '写真'}, {'BaseForm': 'と共に'}, {'BaseForm': '掲載'}, {'BaseForm': 'さ'}, {'BaseForm': 'れ'}, {'BaseForm': 'た'}, {'BaseForm': '。'}, {'BaseForm': '入力'}, {'BaseForm': '：'}, {'BaseForm': '砂場'}, {'BaseForm': '清隆'}, {'BaseForm': '校正'}, {'BaseForm': '：'}, {'BaseForm': '高柳'}, {'BaseForm': '典子'}, {'BaseForm': '2006'}, {'BaseForm': '年'}, {'BaseForm': '2'}, {'BaseForm': '月'}, {'BaseForm': '21'}, {'BaseForm': '日'}, {'BaseForm': '作成'}, {'BaseForm': '2006'}, {'BaseForm': '年'}, {'BaseForm': '4'}, {'BaseForm': '月'}, {'BaseForm': '5'}, {'BaseForm': '日'}, {'BaseForm': '修正'}, {'BaseForm': '青空'}, {'BaseForm': '文庫'}, {'BaseForm': '作成'}, {'BaseForm': 'ファイル'}, {'BaseForm': '：'}, {'BaseForm': 'この'}, {'BaseForm': 'ファイル'}, {'BaseForm': 'は'}, {'BaseForm': '、'}, {'BaseForm': 'インターネット'}, {'BaseForm': 'の'}, {'BaseForm': '図書館'}, {'BaseForm': '、'}, {'BaseForm': '青空'}, {'BaseForm': '文庫'}, {'BaseForm': '（'}, {'BaseForm': 'http'}, {'BaseForm': '://'}, {'BaseForm': 'www'}, {'BaseForm': '.'}, {'BaseForm': 'aozora'}, {'BaseForm': '.'}, {'BaseForm': 'gr'}, {'BaseForm': '.'}, {'BaseForm': 'jp'}, {'BaseForm': '/）'}, {'BaseForm': 'で'}, {'BaseForm': '作ら'}, {'BaseForm': 'れ'}, {'BaseForm': 'まし'}, {'BaseForm': 'た'}, {'BaseForm': '。'}, {'BaseForm': '入力'}, {'BaseForm': '、'}, {'BaseForm': '校正'}, {'BaseForm': '、'}, {'BaseForm': '制作'}, {'BaseForm': 'に'}, {'BaseForm': 'あたっ'}, {'BaseForm': 'た'}, {'BaseForm': 'の'}, {'BaseForm': 'は'}, {'BaseForm': '、'}, {'BaseForm': 'ボランティア'}, {'BaseForm': 'の'}, {'BaseForm': '皆さん'}, {'BaseForm': 'です'}]\n"
          ]
        }
      ]
    },
    {
      "cell_type": "markdown",
      "source": [
        "### ネガポジ判定\n",
        "辞書と形態素解析済みの文章(typeリスト)を用いて判定を行いましょう"
      ],
      "metadata": {
        "id": "3BuyV-FqirUq"
      }
    },
    {
      "cell_type": "markdown",
      "source": [
        "###### 極性辞書作成"
      ],
      "metadata": {
        "id": "5IrBwdZ0c3Ie"
      }
    },
    {
      "cell_type": "markdown",
      "source": [
        "ネガ/ポジのことを「極性」と呼ぶ。⇒極性辞書 = ネガポジ辞書\n",
        "　\n",
        "名前の通り単語ごとにネガポジ属性を付与してまとめたもの。　[こちら](https://premium.aidemy.jp/courses/6020/exercises/7UB9y2_hQh)\n",
        "\n",
        "辞書の確認と調整"
      ],
      "metadata": {
        "id": "D74ig-jfZ5B3"
      }
    },
    {
      "cell_type": "code",
      "source": [
        "# ネガポジ辞書の召喚。\n",
        "import pandas as pd\n",
        "\n",
        "# カラムも分かりやすく設定して､\n",
        "pn_df = pd.read_csv('./6020_negative_positive_data/data/pn_ja.dic',sep=':',encoding='utf-8',names=('単語','読み方','品詞', 'PN') )\n",
        "\n",
        "# ネガポジ辞書の表示。　こんな感じで　１：positive -1：negative　で数値化しているのですね。 \n",
        "pn_df.head(2)"
      ],
      "metadata": {
        "colab": {
          "base_uri": "https://localhost:8080/",
          "height": 112
        },
        "id": "fq-HhlQeZ1kf",
        "outputId": "039b6d66-c7fa-408d-f954-5df899f8b5ee"
      },
      "execution_count": null,
      "outputs": [
        {
          "output_type": "execute_result",
          "data": {
            "text/plain": [
              "    単語   読み方   品詞        PN\n",
              "0  優れる  すぐれる   動詞  1.000000\n",
              "1   良い    よい  形容詞  0.999995"
            ],
            "text/html": [
              "\n",
              "  <div id=\"df-fb348df0-6341-42e7-babe-809a8fd2cc35\">\n",
              "    <div class=\"colab-df-container\">\n",
              "      <div>\n",
              "<style scoped>\n",
              "    .dataframe tbody tr th:only-of-type {\n",
              "        vertical-align: middle;\n",
              "    }\n",
              "\n",
              "    .dataframe tbody tr th {\n",
              "        vertical-align: top;\n",
              "    }\n",
              "\n",
              "    .dataframe thead th {\n",
              "        text-align: right;\n",
              "    }\n",
              "</style>\n",
              "<table border=\"1\" class=\"dataframe\">\n",
              "  <thead>\n",
              "    <tr style=\"text-align: right;\">\n",
              "      <th></th>\n",
              "      <th>単語</th>\n",
              "      <th>読み方</th>\n",
              "      <th>品詞</th>\n",
              "      <th>PN</th>\n",
              "    </tr>\n",
              "  </thead>\n",
              "  <tbody>\n",
              "    <tr>\n",
              "      <th>0</th>\n",
              "      <td>優れる</td>\n",
              "      <td>すぐれる</td>\n",
              "      <td>動詞</td>\n",
              "      <td>1.000000</td>\n",
              "    </tr>\n",
              "    <tr>\n",
              "      <th>1</th>\n",
              "      <td>良い</td>\n",
              "      <td>よい</td>\n",
              "      <td>形容詞</td>\n",
              "      <td>0.999995</td>\n",
              "    </tr>\n",
              "  </tbody>\n",
              "</table>\n",
              "</div>\n",
              "      <button class=\"colab-df-convert\" onclick=\"convertToInteractive('df-fb348df0-6341-42e7-babe-809a8fd2cc35')\"\n",
              "              title=\"Convert this dataframe to an interactive table.\"\n",
              "              style=\"display:none;\">\n",
              "        \n",
              "  <svg xmlns=\"http://www.w3.org/2000/svg\" height=\"24px\"viewBox=\"0 0 24 24\"\n",
              "       width=\"24px\">\n",
              "    <path d=\"M0 0h24v24H0V0z\" fill=\"none\"/>\n",
              "    <path d=\"M18.56 5.44l.94 2.06.94-2.06 2.06-.94-2.06-.94-.94-2.06-.94 2.06-2.06.94zm-11 1L8.5 8.5l.94-2.06 2.06-.94-2.06-.94L8.5 2.5l-.94 2.06-2.06.94zm10 10l.94 2.06.94-2.06 2.06-.94-2.06-.94-.94-2.06-.94 2.06-2.06.94z\"/><path d=\"M17.41 7.96l-1.37-1.37c-.4-.4-.92-.59-1.43-.59-.52 0-1.04.2-1.43.59L10.3 9.45l-7.72 7.72c-.78.78-.78 2.05 0 2.83L4 21.41c.39.39.9.59 1.41.59.51 0 1.02-.2 1.41-.59l7.78-7.78 2.81-2.81c.8-.78.8-2.07 0-2.86zM5.41 20L4 18.59l7.72-7.72 1.47 1.35L5.41 20z\"/>\n",
              "  </svg>\n",
              "      </button>\n",
              "      \n",
              "  <style>\n",
              "    .colab-df-container {\n",
              "      display:flex;\n",
              "      flex-wrap:wrap;\n",
              "      gap: 12px;\n",
              "    }\n",
              "\n",
              "    .colab-df-convert {\n",
              "      background-color: #E8F0FE;\n",
              "      border: none;\n",
              "      border-radius: 50%;\n",
              "      cursor: pointer;\n",
              "      display: none;\n",
              "      fill: #1967D2;\n",
              "      height: 32px;\n",
              "      padding: 0 0 0 0;\n",
              "      width: 32px;\n",
              "    }\n",
              "\n",
              "    .colab-df-convert:hover {\n",
              "      background-color: #E2EBFA;\n",
              "      box-shadow: 0px 1px 2px rgba(60, 64, 67, 0.3), 0px 1px 3px 1px rgba(60, 64, 67, 0.15);\n",
              "      fill: #174EA6;\n",
              "    }\n",
              "\n",
              "    [theme=dark] .colab-df-convert {\n",
              "      background-color: #3B4455;\n",
              "      fill: #D2E3FC;\n",
              "    }\n",
              "\n",
              "    [theme=dark] .colab-df-convert:hover {\n",
              "      background-color: #434B5C;\n",
              "      box-shadow: 0px 1px 3px 1px rgba(0, 0, 0, 0.15);\n",
              "      filter: drop-shadow(0px 1px 2px rgba(0, 0, 0, 0.3));\n",
              "      fill: #FFFFFF;\n",
              "    }\n",
              "  </style>\n",
              "\n",
              "      <script>\n",
              "        const buttonEl =\n",
              "          document.querySelector('#df-fb348df0-6341-42e7-babe-809a8fd2cc35 button.colab-df-convert');\n",
              "        buttonEl.style.display =\n",
              "          google.colab.kernel.accessAllowed ? 'block' : 'none';\n",
              "\n",
              "        async function convertToInteractive(key) {\n",
              "          const element = document.querySelector('#df-fb348df0-6341-42e7-babe-809a8fd2cc35');\n",
              "          const dataTable =\n",
              "            await google.colab.kernel.invokeFunction('convertToInteractive',\n",
              "                                                     [key], {});\n",
              "          if (!dataTable) return;\n",
              "\n",
              "          const docLinkHtml = 'Like what you see? Visit the ' +\n",
              "            '<a target=\"_blank\" href=https://colab.research.google.com/notebooks/data_table.ipynb>data table notebook</a>'\n",
              "            + ' to learn more about interactive tables.';\n",
              "          element.innerHTML = '';\n",
              "          dataTable['output_type'] = 'display_data';\n",
              "          await google.colab.output.renderOutput(dataTable, element);\n",
              "          const docLink = document.createElement('div');\n",
              "          docLink.innerHTML = docLinkHtml;\n",
              "          element.appendChild(docLink);\n",
              "        }\n",
              "      </script>\n",
              "    </div>\n",
              "  </div>\n",
              "  "
            ]
          },
          "metadata": {},
          "execution_count": 9
        }
      ]
    },
    {
      "cell_type": "code",
      "source": [
        "# 今回使わないカラムを削除する\n",
        "df_pn = pn_df.drop(columns = [\"読み方\",\"品詞\"])\n",
        "df_pn.head(2)\n",
        "# こっちの方が見やすい。"
      ],
      "metadata": {
        "colab": {
          "base_uri": "https://localhost:8080/",
          "height": 112
        },
        "id": "wH-aseYTrOyL",
        "outputId": "cb4452c1-d641-41f3-b26c-35dfdfa9cba6"
      },
      "execution_count": null,
      "outputs": [
        {
          "output_type": "execute_result",
          "data": {
            "text/plain": [
              "    単語        PN\n",
              "0  優れる  1.000000\n",
              "1   良い  0.999995"
            ],
            "text/html": [
              "\n",
              "  <div id=\"df-4be71272-8dbb-4f97-a45c-c1d995542cbc\">\n",
              "    <div class=\"colab-df-container\">\n",
              "      <div>\n",
              "<style scoped>\n",
              "    .dataframe tbody tr th:only-of-type {\n",
              "        vertical-align: middle;\n",
              "    }\n",
              "\n",
              "    .dataframe tbody tr th {\n",
              "        vertical-align: top;\n",
              "    }\n",
              "\n",
              "    .dataframe thead th {\n",
              "        text-align: right;\n",
              "    }\n",
              "</style>\n",
              "<table border=\"1\" class=\"dataframe\">\n",
              "  <thead>\n",
              "    <tr style=\"text-align: right;\">\n",
              "      <th></th>\n",
              "      <th>単語</th>\n",
              "      <th>PN</th>\n",
              "    </tr>\n",
              "  </thead>\n",
              "  <tbody>\n",
              "    <tr>\n",
              "      <th>0</th>\n",
              "      <td>優れる</td>\n",
              "      <td>1.000000</td>\n",
              "    </tr>\n",
              "    <tr>\n",
              "      <th>1</th>\n",
              "      <td>良い</td>\n",
              "      <td>0.999995</td>\n",
              "    </tr>\n",
              "  </tbody>\n",
              "</table>\n",
              "</div>\n",
              "      <button class=\"colab-df-convert\" onclick=\"convertToInteractive('df-4be71272-8dbb-4f97-a45c-c1d995542cbc')\"\n",
              "              title=\"Convert this dataframe to an interactive table.\"\n",
              "              style=\"display:none;\">\n",
              "        \n",
              "  <svg xmlns=\"http://www.w3.org/2000/svg\" height=\"24px\"viewBox=\"0 0 24 24\"\n",
              "       width=\"24px\">\n",
              "    <path d=\"M0 0h24v24H0V0z\" fill=\"none\"/>\n",
              "    <path d=\"M18.56 5.44l.94 2.06.94-2.06 2.06-.94-2.06-.94-.94-2.06-.94 2.06-2.06.94zm-11 1L8.5 8.5l.94-2.06 2.06-.94-2.06-.94L8.5 2.5l-.94 2.06-2.06.94zm10 10l.94 2.06.94-2.06 2.06-.94-2.06-.94-.94-2.06-.94 2.06-2.06.94z\"/><path d=\"M17.41 7.96l-1.37-1.37c-.4-.4-.92-.59-1.43-.59-.52 0-1.04.2-1.43.59L10.3 9.45l-7.72 7.72c-.78.78-.78 2.05 0 2.83L4 21.41c.39.39.9.59 1.41.59.51 0 1.02-.2 1.41-.59l7.78-7.78 2.81-2.81c.8-.78.8-2.07 0-2.86zM5.41 20L4 18.59l7.72-7.72 1.47 1.35L5.41 20z\"/>\n",
              "  </svg>\n",
              "      </button>\n",
              "      \n",
              "  <style>\n",
              "    .colab-df-container {\n",
              "      display:flex;\n",
              "      flex-wrap:wrap;\n",
              "      gap: 12px;\n",
              "    }\n",
              "\n",
              "    .colab-df-convert {\n",
              "      background-color: #E8F0FE;\n",
              "      border: none;\n",
              "      border-radius: 50%;\n",
              "      cursor: pointer;\n",
              "      display: none;\n",
              "      fill: #1967D2;\n",
              "      height: 32px;\n",
              "      padding: 0 0 0 0;\n",
              "      width: 32px;\n",
              "    }\n",
              "\n",
              "    .colab-df-convert:hover {\n",
              "      background-color: #E2EBFA;\n",
              "      box-shadow: 0px 1px 2px rgba(60, 64, 67, 0.3), 0px 1px 3px 1px rgba(60, 64, 67, 0.15);\n",
              "      fill: #174EA6;\n",
              "    }\n",
              "\n",
              "    [theme=dark] .colab-df-convert {\n",
              "      background-color: #3B4455;\n",
              "      fill: #D2E3FC;\n",
              "    }\n",
              "\n",
              "    [theme=dark] .colab-df-convert:hover {\n",
              "      background-color: #434B5C;\n",
              "      box-shadow: 0px 1px 3px 1px rgba(0, 0, 0, 0.15);\n",
              "      filter: drop-shadow(0px 1px 2px rgba(0, 0, 0, 0.3));\n",
              "      fill: #FFFFFF;\n",
              "    }\n",
              "  </style>\n",
              "\n",
              "      <script>\n",
              "        const buttonEl =\n",
              "          document.querySelector('#df-4be71272-8dbb-4f97-a45c-c1d995542cbc button.colab-df-convert');\n",
              "        buttonEl.style.display =\n",
              "          google.colab.kernel.accessAllowed ? 'block' : 'none';\n",
              "\n",
              "        async function convertToInteractive(key) {\n",
              "          const element = document.querySelector('#df-4be71272-8dbb-4f97-a45c-c1d995542cbc');\n",
              "          const dataTable =\n",
              "            await google.colab.kernel.invokeFunction('convertToInteractive',\n",
              "                                                     [key], {});\n",
              "          if (!dataTable) return;\n",
              "\n",
              "          const docLinkHtml = 'Like what you see? Visit the ' +\n",
              "            '<a target=\"_blank\" href=https://colab.research.google.com/notebooks/data_table.ipynb>data table notebook</a>'\n",
              "            + ' to learn more about interactive tables.';\n",
              "          element.innerHTML = '';\n",
              "          dataTable['output_type'] = 'display_data';\n",
              "          await google.colab.output.renderOutput(dataTable, element);\n",
              "          const docLink = document.createElement('div');\n",
              "          docLink.innerHTML = docLinkHtml;\n",
              "          element.appendChild(docLink);\n",
              "        }\n",
              "      </script>\n",
              "    </div>\n",
              "  </div>\n",
              "  "
            ]
          },
          "metadata": {},
          "execution_count": 62
        }
      ]
    },
    {
      "cell_type": "markdown",
      "source": [
        "pandasから上手に<font color=\"red\">辞書型 & リスト</font>にしています。keyとvalueを設定して。"
      ],
      "metadata": {
        "id": "RZr0ZWuKbFab"
      }
    },
    {
      "cell_type": "code",
      "source": [
        "# PNTableを単語と極性値のみのdict型に変更します ⇒　①辞書型に変更　key:word ,value:PN で。 \n",
        "\n",
        "key     = df_pn['単語']            # df_pn のカラム['単語']をkeyとして設定\n",
        "value   = df_pn['PN']              # df_pn のカラム['PN']をvalueとして設定\n",
        "PN_dict = dict(zip(key, value))    # 上記の材料で辞書を作成\n",
        "PN_dict\n",
        "\n",
        "# これで辞書型の極性辞書が出来ました。"
      ],
      "metadata": {
        "id": "BqTvlRx2sUcr"
      },
      "execution_count": null,
      "outputs": []
    },
    {
      "cell_type": "markdown",
      "source": [
        "###### 文章と極性辞書を掛け合わせる。\n",
        "質問：見慣れない表現有。"
      ],
      "metadata": {
        "id": "EfnZJh7sdFvl"
      }
    },
    {
      "cell_type": "code",
      "source": [
        "# 先ほど作成した極性辞書の確認\n",
        "PN_dict"
      ],
      "metadata": {
        "id": "ay4heITBdIf-"
      },
      "execution_count": null,
      "outputs": []
    },
    {
      "cell_type": "code",
      "source": [
        "# 分かち書きされた文章、のおさらい。\n",
        "print(wordlist)"
      ],
      "metadata": {
        "colab": {
          "base_uri": "https://localhost:8080/"
        },
        "id": "E5Wvnaovr5Tc",
        "outputId": "fc6d6e02-cb05-47a7-8292-938ce3af40a4"
      },
      "execution_count": null,
      "outputs": [
        {
          "output_type": "stream",
          "name": "stdout",
          "text": [
            "[{'BaseForm': '愛読', 'PN': -0.207109}, {'BaseForm': '書', 'PN': -0.688965}, {'BaseForm': 'の', 'PN': 'not found'}, {'BaseForm': '印象', 'PN': -0.370506}, {'BaseForm': '芥川', 'PN': 'not found'}, {'BaseForm': '龍之介', 'PN': 'not found'}, {'BaseForm': '-', 'PN': 'not found'}, {'BaseForm': '-', 'PN': 'not found'}, {'BaseForm': '-', 'PN': 'not found'}, {'BaseForm': '-', 'PN': 'not found'}, {'BaseForm': '-', 'PN': 'not found'}, {'BaseForm': '-', 'PN': 'not found'}, {'BaseForm': '-', 'PN': 'not found'}, {'BaseForm': '-', 'PN': 'not found'}, {'BaseForm': '-', 'PN': 'not found'}, {'BaseForm': '-', 'PN': 'not found'}, {'BaseForm': '-', 'PN': 'not found'}, {'BaseForm': '-', 'PN': 'not found'}, {'BaseForm': '-', 'PN': 'not found'}, {'BaseForm': '-', 'PN': 'not found'}, {'BaseForm': '-', 'PN': 'not found'}, {'BaseForm': '-', 'PN': 'not found'}, {'BaseForm': '-', 'PN': 'not found'}, {'BaseForm': '-', 'PN': 'not found'}, {'BaseForm': '-', 'PN': 'not found'}, {'BaseForm': '-', 'PN': 'not found'}, {'BaseForm': '-', 'PN': 'not found'}, {'BaseForm': '-', 'PN': 'not found'}, {'BaseForm': '-', 'PN': 'not found'}, {'BaseForm': '-', 'PN': 'not found'}, {'BaseForm': '-', 'PN': 'not found'}, {'BaseForm': '-', 'PN': 'not found'}, {'BaseForm': '-', 'PN': 'not found'}, {'BaseForm': '-', 'PN': 'not found'}, {'BaseForm': '-', 'PN': 'not found'}, {'BaseForm': '-', 'PN': 'not found'}, {'BaseForm': '-------------------------', 'PN': 'not found'}, {'BaseForm': '【', 'PN': 'not found'}, {'BaseForm': 'テキスト', 'PN': -0.31542}, {'BaseForm': '中', 'PN': -0.979874}, {'BaseForm': 'に', 'PN': 'not found'}, {'BaseForm': '現れる', 'PN': 'not found'}, {'BaseForm': '記号', 'PN': -0.885465}, {'BaseForm': 'について', 'PN': 'not found'}, {'BaseForm': '】', 'PN': 'not found'}, {'BaseForm': '《', 'PN': 'not found'}, {'BaseForm': '》', 'PN': 'not found'}, {'BaseForm': '：', 'PN': 'not found'}, {'BaseForm': 'ルビ', 'PN': -0.239804}, {'BaseForm': '（', 'PN': 'not found'}, {'BaseForm': '例', 'PN': -0.974268}, {'BaseForm': '）', 'PN': 'not found'}, {'BaseForm': '諳記', 'PN': 'not found'}, {'BaseForm': '《', 'PN': 'not found'}, {'BaseForm': 'あん', 'PN': 'not found'}, {'BaseForm': 'き', 'PN': 'not found'}, {'BaseForm': '》', 'PN': 'not found'}, {'BaseForm': 'し', 'PN': 'not found'}, {'BaseForm': 'て', 'PN': 'not found'}, {'BaseForm': 'ゐ', 'PN': 'not found'}, {'BaseForm': 'た', 'PN': 'not found'}, {'BaseForm': '［＃］：', 'PN': 'not found'}, {'BaseForm': '入力', 'PN': -0.273497}, {'BaseForm': '者', 'PN': -0.585529}, {'BaseForm': '注', 'PN': -0.696329}, {'BaseForm': '\\u3000', 'PN': 'not found'}, {'BaseForm': '主', 'PN': -0.935341}, {'BaseForm': 'に', 'PN': 'not found'}, {'BaseForm': '外字', 'PN': -0.236414}, {'BaseForm': 'の', 'PN': 'not found'}, {'BaseForm': '説明', 'PN': -0.776338}, {'BaseForm': 'や', 'PN': -0.278384}, {'BaseForm': '、', 'PN': 'not found'}, {'BaseForm': '傍点', 'PN': -0.392084}, {'BaseForm': 'の', 'PN': 'not found'}, {'BaseForm': '位置', 'PN': -0.895878}, {'BaseForm': 'の', 'PN': 'not found'}, {'BaseForm': '指定', 'PN': -0.310407}, {'BaseForm': '（', 'PN': 'not found'}, {'BaseForm': '例', 'PN': -0.974268}, {'BaseForm': '）', 'PN': 'not found'}, {'BaseForm': '又', 'PN': -0.26744}, {'BaseForm': 'ため', 'PN': 'not found'}, {'BaseForm': '［＃「', 'PN': 'not found'}, {'BaseForm': 'ため', 'PN': 'not found'}, {'BaseForm': '」', 'PN': 'not found'}, {'BaseForm': 'に', 'PN': 'not found'}, {'BaseForm': '傍点', 'PN': -0.392084}, {'BaseForm': '］', 'PN': 'not found'}, {'BaseForm': 'に', 'PN': 'not found'}, {'BaseForm': 'も', 'PN': 'not found'}, {'BaseForm': 'なる', 'PN': 'not found'}, {'BaseForm': '本', 'PN': -0.902223}, {'BaseForm': 'で', 'PN': 'not found'}, {'BaseForm': 'ある', 'PN': 'not found'}, {'BaseForm': '-', 'PN': 'not found'}, {'BaseForm': '-', 'PN': 'not found'}, {'BaseForm': '-', 'PN': 'not found'}, {'BaseForm': '-', 'PN': 'not found'}, {'BaseForm': '-', 'PN': 'not found'}, {'BaseForm': '-', 'PN': 'not found'}, {'BaseForm': '-', 'PN': 'not found'}, {'BaseForm': '-', 'PN': 'not found'}, {'BaseForm': '-', 'PN': 'not found'}, {'BaseForm': '-', 'PN': 'not found'}, {'BaseForm': '-', 'PN': 'not found'}, {'BaseForm': '-', 'PN': 'not found'}, {'BaseForm': '-', 'PN': 'not found'}, {'BaseForm': '-', 'PN': 'not found'}, {'BaseForm': '-', 'PN': 'not found'}, {'BaseForm': '-', 'PN': 'not found'}, {'BaseForm': '-', 'PN': 'not found'}, {'BaseForm': '-', 'PN': 'not found'}, {'BaseForm': '-', 'PN': 'not found'}, {'BaseForm': '-', 'PN': 'not found'}, {'BaseForm': '-', 'PN': 'not found'}, {'BaseForm': '-', 'PN': 'not found'}, {'BaseForm': '-', 'PN': 'not found'}, {'BaseForm': '-', 'PN': 'not found'}, {'BaseForm': '-', 'PN': 'not found'}, {'BaseForm': '-', 'PN': 'not found'}, {'BaseForm': '-', 'PN': 'not found'}, {'BaseForm': '-', 'PN': 'not found'}, {'BaseForm': '-', 'PN': 'not found'}, {'BaseForm': '-', 'PN': 'not found'}, {'BaseForm': '-------------------------', 'PN': 'not found'}, {'BaseForm': '\\u3000', 'PN': 'not found'}, {'BaseForm': '子供', 'PN': -0.982188}, {'BaseForm': 'の', 'PN': 'not found'}, {'BaseForm': '時', 'PN': -0.753339}, {'BaseForm': 'の', 'PN': 'not found'}, {'BaseForm': '愛読', 'PN': -0.207109}, {'BaseForm': '書', 'PN': -0.688965}, {'BaseForm': 'は', 'PN': 'not found'}, {'BaseForm': '「', 'PN': 'not found'}, {'BaseForm': '西遊', 'PN': -0.184525}, {'BaseForm': '記', 'PN': -0.512985}, {'BaseForm': '」', 'PN': 'not found'}, {'BaseForm': 'が', 'PN': 'not found'}, {'BaseForm': '第', 'PN': 'not found'}, {'BaseForm': '一', 'PN': 'not found'}, {'BaseForm': 'で', 'PN': 'not found'}, {'BaseForm': 'ある', 'PN': 'not found'}, {'BaseForm': '。', 'PN': 'not found'}, {'BaseForm': 'これ', 'PN': 'not found'}, {'BaseForm': '等', 'PN': -0.560531}, {'BaseForm': 'は', 'PN': 'not found'}, {'BaseForm': '今日', 'PN': 0.172375}, {'BaseForm': 'でも', 'PN': 'not found'}, {'BaseForm': '僕', 'PN': 'not found'}, {'BaseForm': 'の', 'PN': 'not found'}, {'BaseForm': '愛読', 'PN': -0.207109}, {'BaseForm': '書', 'PN': -0.688965}, {'BaseForm': 'で', 'PN': 'not found'}, {'BaseForm': 'ある', 'PN': 'not found'}, {'BaseForm': '。', 'PN': 'not found'}, {'BaseForm': '比喩', 'PN': -0.493458}, {'BaseForm': '談', 'PN': -0.242199}, {'BaseForm': 'として', 'PN': 'not found'}, {'BaseForm': 'これ', 'PN': 'not found'}, {'BaseForm': 'ほど', 'PN': 'not found'}, {'BaseForm': 'の', 'PN': 'not found'}, {'BaseForm': '傑作', 'PN': 0.994939}, {'BaseForm': 'は', 'PN': 'not found'}, {'BaseForm': '、', 'PN': 'not found'}, {'BaseForm': '西洋', 'PN': -0.866656}, {'BaseForm': 'に', 'PN': 'not found'}, {'BaseForm': 'は', 'PN': 'not found'}, {'BaseForm': '一つ', 'PN': 'not found'}, {'BaseForm': 'も', 'PN': 'not found'}, {'BaseForm': 'ない', 'PN': -0.999997}, {'BaseForm': 'で', 'PN': 'not found'}, {'BaseForm': 'あら', 'PN': 'not found'}, {'BaseForm': 'う', 'PN': 'not found'}, {'BaseForm': 'と', 'PN': -0.215793}, {'BaseForm': '思ふ', 'PN': 'not found'}, {'BaseForm': '。', 'PN': 'not found'}, {'BaseForm': '名高い', 'PN': 0.997259}, {'BaseForm': 'バンヤン', 'PN': 'not found'}, {'BaseForm': 'の', 'PN': 'not found'}, {'BaseForm': '「', 'PN': 'not found'}, {'BaseForm': '天', 'PN': -0.69552}, {'BaseForm': '路', 'PN': -0.441013}, {'BaseForm': '歴程', 'PN': -0.684903}, {'BaseForm': '」', 'PN': 'not found'}, {'BaseForm': 'など', 'PN': 'not found'}, {'BaseForm': 'も', 'PN': 'not found'}, {'BaseForm': '到底', 'PN': -0.283332}, {'BaseForm': 'この', 'PN': 'not found'}, {'BaseForm': '「', 'PN': 'not found'}, {'BaseForm': '西遊', 'PN': -0.184525}, {'BaseForm': '記', 'PN': -0.512985}, {'BaseForm': '」', 'PN': 'not found'}, {'BaseForm': 'の', 'PN': 'not found'}, {'BaseForm': '敵', 'PN': -0.999579}, {'BaseForm': 'で', 'PN': 'not found'}, {'BaseForm': 'は', 'PN': 'not found'}, {'BaseForm': 'ない', 'PN': -0.999997}, {'BaseForm': '。', 'PN': 'not found'}, {'BaseForm': 'それから', 'PN': 'not found'}, {'BaseForm': '「', 'PN': 'not found'}, {'BaseForm': '水', 'PN': 'not found'}, {'BaseForm': '滸伝', 'PN': 'not found'}, {'BaseForm': '」', 'PN': 'not found'}, {'BaseForm': 'も', 'PN': 'not found'}, {'BaseForm': '愛読', 'PN': -0.207109}, {'BaseForm': '書', 'PN': -0.688965}, {'BaseForm': 'の', 'PN': 'not found'}, {'BaseForm': '一つ', 'PN': 'not found'}, {'BaseForm': 'で', 'PN': 'not found'}, {'BaseForm': 'ある', 'PN': 'not found'}, {'BaseForm': '。', 'PN': 'not found'}, {'BaseForm': 'これ', 'PN': 'not found'}, {'BaseForm': 'も', 'PN': 'not found'}, {'BaseForm': '今', 'PN': -0.851644}, {'BaseForm': '以', 'PN': 'not found'}, {'BaseForm': 'て', 'PN': 'not found'}, {'BaseForm': '愛読', 'PN': -0.207109}, {'BaseForm': 'し', 'PN': 'not found'}, {'BaseForm': 'て', 'PN': 'not found'}, {'BaseForm': 'ゐる', 'PN': 'not found'}, {'BaseForm': '。', 'PN': 'not found'}, {'BaseForm': '一時', 'PN': -0.884964}, {'BaseForm': 'は', 'PN': 'not found'}, {'BaseForm': '「', 'PN': 'not found'}, {'BaseForm': '水', 'PN': 'not found'}, {'BaseForm': '滸伝', 'PN': 'not found'}, {'BaseForm': '」', 'PN': 'not found'}, {'BaseForm': 'の', 'PN': 'not found'}, {'BaseForm': '中', 'PN': -0.979874}, {'BaseForm': 'の', 'PN': 'not found'}, {'BaseForm': '一', 'PN': 'not found'}, {'BaseForm': '百', 'PN': -0.785096}, {'BaseForm': '八', 'PN': -0.916421}, {'BaseForm': '人', 'PN': 'not found'}, {'BaseForm': 'の', 'PN': 'not found'}, {'BaseForm': '豪傑', 'PN': 0.986734}, {'BaseForm': 'の', 'PN': 'not found'}, {'BaseForm': '名前', 'PN': -0.412125}, {'BaseForm': 'を', 'PN': 'not found'}, {'BaseForm': '悉く', 'PN': -0.53687}, {'BaseForm': '諳記', 'PN': 'not found'}, {'BaseForm': '《', 'PN': 'not found'}, {'BaseForm': 'あん', 'PN': 'not found'}, {'BaseForm': 'き', 'PN': 'not found'}, {'BaseForm': '》', 'PN': 'not found'}, {'BaseForm': 'し', 'PN': 'not found'}, {'BaseForm': 'て', 'PN': 'not found'}, {'BaseForm': 'ゐ', 'PN': 'not found'}, {'BaseForm': 'た', 'PN': 'not found'}, {'BaseForm': 'こと', 'PN': 'not found'}, {'BaseForm': 'が', 'PN': 'not found'}, {'BaseForm': 'ある', 'PN': 'not found'}, {'BaseForm': '。', 'PN': 'not found'}, {'BaseForm': 'その', 'PN': 'not found'}, {'BaseForm': '時分', 'PN': 0.865806}, {'BaseForm': 'で', 'PN': 'not found'}, {'BaseForm': 'も', 'PN': 'not found'}, {'BaseForm': '押川', 'PN': 'not found'}, {'BaseForm': '春浪', 'PN': 'not found'}, {'BaseForm': '氏', 'PN': -0.512065}, {'BaseForm': 'の', 'PN': 'not found'}, {'BaseForm': '冒険', 'PN': -0.598082}, {'BaseForm': '小説', 'PN': -0.555883}, {'BaseForm': 'や', 'PN': -0.278384}, {'BaseForm': '何', 'PN': 'not found'}, {'BaseForm': 'か', 'PN': 'not found'}, {'BaseForm': 'より', 'PN': 'not found'}, {'BaseForm': 'も', 'PN': 'not found'}, {'BaseForm': 'この', 'PN': 'not found'}, {'BaseForm': '「', 'PN': 'not found'}, {'BaseForm': '水', 'PN': 'not found'}, {'BaseForm': '滸伝', 'PN': 'not found'}, {'BaseForm': '」', 'PN': 'not found'}, {'BaseForm': 'だの', 'PN': 'not found'}, {'BaseForm': '「', 'PN': 'not found'}, {'BaseForm': '西遊', 'PN': -0.184525}, {'BaseForm': '記', 'PN': -0.512985}, {'BaseForm': '」', 'PN': 'not found'}, {'BaseForm': 'だ', 'PN': 'not found'}, {'BaseForm': 'の', 'PN': 'not found'}, {'BaseForm': 'といふ', 'PN': 'not found'}, {'BaseForm': '方', 'PN': -0.939987}, {'BaseForm': 'が', 'PN': 'not found'}, {'BaseForm': '遥か', 'PN': -0.283165}, {'BaseForm': 'に', 'PN': 'not found'}, {'BaseForm': '僕', 'PN': 'not found'}, {'BaseForm': 'に', 'PN': 'not found'}, {'BaseForm': '面白', 'PN': 'not found'}, {'BaseForm': 'かつ', 'PN': 'not found'}, {'BaseForm': 'た', 'PN': 'not found'}, {'BaseForm': '。', 'PN': 'not found'}, {'BaseForm': '\\u3000', 'PN': 'not found'}, {'BaseForm': '中学', 'PN': -0.0857331}, {'BaseForm': 'へ', 'PN': 'not found'}, {'BaseForm': '入学', 'PN': -0.306739}, {'BaseForm': '前', 'PN': 'not found'}, {'BaseForm': 'から', 'PN': 'not found'}, {'BaseForm': '徳富', 'PN': 'not found'}, {'BaseForm': '蘆花', 'PN': 'not found'}, {'BaseForm': '氏', 'PN': -0.512065}, {'BaseForm': 'の', 'PN': 'not found'}, {'BaseForm': '「', 'PN': 'not found'}, {'BaseForm': '自然', 'PN': -0.656898}, {'BaseForm': 'と', 'PN': -0.215793}, {'BaseForm': '人生', 'PN': -0.195237}, {'BaseForm': '」', 'PN': 'not found'}, {'BaseForm': 'や', 'PN': -0.278384}, {'BaseForm': '樗', 'PN': 'not found'}, {'BaseForm': '牛', 'PN': -0.854521}, {'BaseForm': 'の', 'PN': 'not found'}, {'BaseForm': '「', 'PN': 'not found'}, {'BaseForm': '平家', 'PN': 'not found'}, {'BaseForm': '雑感', 'PN': -0.463746}, {'BaseForm': '」', 'PN': 'not found'}, {'BaseForm': 'や', 'PN': -0.278384}, {'BaseForm': '小島', 'PN': 'not found'}, {'BaseForm': '烏水', 'PN': 'not found'}, {'BaseForm': '氏', 'PN': -0.512065}, {'BaseForm': 'の', 'PN': 'not found'}, {'BaseForm': '「', 'PN': 'not found'}, {'BaseForm': '日本', 'PN': 'not found'}, {'BaseForm': '山水', 'PN': -0.305708}, {'BaseForm': '論', 'PN': -0.449462}, {'BaseForm': '」', 'PN': 'not found'}, {'BaseForm': 'を', 'PN': 'not found'}, {'BaseForm': '愛読', 'PN': -0.207109}, {'BaseForm': 'し', 'PN': 'not found'}, {'BaseForm': 'た', 'PN': 'not found'}, {'BaseForm': '。', 'PN': 'not found'}, {'BaseForm': '同時に', 'PN': 'not found'}, {'BaseForm': '、', 'PN': 'not found'}, {'BaseForm': '夏目', 'PN': 'not found'}, {'BaseForm': 'さん', 'PN': -0.598002}, {'BaseForm': 'の', 'PN': 'not found'}, {'BaseForm': '「', 'PN': 'not found'}, {'BaseForm': '猫', 'PN': -0.689341}, {'BaseForm': '」', 'PN': 'not found'}, {'BaseForm': 'や', 'PN': -0.278384}, {'BaseForm': '鏡花', 'PN': 'not found'}, {'BaseForm': '氏', 'PN': -0.512065}, {'BaseForm': 'の', 'PN': 'not found'}, {'BaseForm': '「', 'PN': 'not found'}, {'BaseForm': '風流', 'PN': 0.293131}, {'BaseForm': '線', 'PN': 'not found'}, {'BaseForm': '」', 'PN': 'not found'}, {'BaseForm': 'や', 'PN': -0.278384}, {'BaseForm': '緑', 'PN': -0.592553}, {'BaseForm': '雨', 'PN': -0.958257}, {'BaseForm': 'の', 'PN': 'not found'}, {'BaseForm': '「', 'PN': 'not found'}, {'BaseForm': 'あら', 'PN': 'not found'}, {'BaseForm': 'れ', 'PN': 'not found'}, {'BaseForm': '酒', 'PN': -0.964887}, {'BaseForm': '」', 'PN': 'not found'}, {'BaseForm': 'を', 'PN': 'not found'}, {'BaseForm': '愛読', 'PN': -0.207109}, {'BaseForm': 'し', 'PN': 'not found'}, {'BaseForm': 'た', 'PN': 'not found'}, {'BaseForm': '。', 'PN': 'not found'}, {'BaseForm': 'だから', 'PN': 'not found'}, {'BaseForm': '人', 'PN': 'not found'}, {'BaseForm': 'の', 'PN': 'not found'}, {'BaseForm': '事', 'PN': -0.940497}, {'BaseForm': 'は', 'PN': 'not found'}, {'BaseForm': '笑', 'PN': 0.96353}, {'BaseForm': 'へ', 'PN': 'not found'}, {'BaseForm': 'ない', 'PN': -0.999997}, {'BaseForm': '。', 'PN': 'not found'}, {'BaseForm': '僕', 'PN': 'not found'}, {'BaseForm': 'に', 'PN': 'not found'}, {'BaseForm': 'も', 'PN': 'not found'}, {'BaseForm': '「', 'PN': 'not found'}, {'BaseForm': '文章', 'PN': -0.963412}, {'BaseForm': '倶楽部', 'PN': 'not found'}, {'BaseForm': '」', 'PN': 'not found'}, {'BaseForm': 'の', 'PN': 'not found'}, {'BaseForm': '「', 'PN': 'not found'}, {'BaseForm': '青年', 'PN': 0.137563}, {'BaseForm': '文士', 'PN': -0.246003}, {'BaseForm': '録', 'PN': -0.605201}, {'BaseForm': '」', 'PN': 'not found'}, {'BaseForm': 'の', 'PN': 'not found'}, {'BaseForm': '中', 'PN': -0.979874}, {'BaseForm': 'に', 'PN': 'not found'}, {'BaseForm': 'ある', 'PN': 'not found'}, {'BaseForm': 'やう', 'PN': 'not found'}, {'BaseForm': 'な', 'PN': 'not found'}, {'BaseForm': '「', 'PN': 'not found'}, {'BaseForm': 'トルストイ', 'PN': 'not found'}, {'BaseForm': '、', 'PN': 'not found'}, {'BaseForm': '坪内', 'PN': 'not found'}, {'BaseForm': '士行', 'PN': 'not found'}, {'BaseForm': '、', 'PN': 'not found'}, {'BaseForm': '大町', 'PN': 'not found'}, {'BaseForm': '桂月', 'PN': 'not found'}, {'BaseForm': '」', 'PN': 'not found'}, {'BaseForm': '時代', 'PN': -0.973927}, {'BaseForm': 'が', 'PN': 'not found'}, {'BaseForm': 'あつ', 'PN': 'not found'}, {'BaseForm': 'た', 'PN': 'not found'}, {'BaseForm': '。', 'PN': 'not found'}, {'BaseForm': '\\u3000', 'PN': 'not found'}, {'BaseForm': '中学', 'PN': -0.0857331}, {'BaseForm': 'を', 'PN': 'not found'}, {'BaseForm': '卒業', 'PN': -0.291601}, {'BaseForm': 'し', 'PN': 'not found'}, {'BaseForm': 'て', 'PN': 'not found'}, {'BaseForm': 'から', 'PN': 'not found'}, {'BaseForm': '色んな', 'PN': 'not found'}, {'BaseForm': '本', 'PN': -0.902223}, {'BaseForm': 'を', 'PN': 'not found'}, {'BaseForm': '読ん', 'PN': 'not found'}, {'BaseForm': 'だ', 'PN': 'not found'}, {'BaseForm': 'けれども', 'PN': 'not found'}, {'BaseForm': '、', 'PN': 'not found'}, {'BaseForm': '特に', 'PN': 'not found'}, {'BaseForm': '愛読', 'PN': -0.207109}, {'BaseForm': 'し', 'PN': 'not found'}, {'BaseForm': 'た', 'PN': 'not found'}, {'BaseForm': '本', 'PN': -0.902223}, {'BaseForm': 'といふ', 'PN': 'not found'}, {'BaseForm': 'もの', 'PN': 'not found'}, {'BaseForm': 'は', 'PN': 'not found'}, {'BaseForm': 'ない', 'PN': -0.999997}, {'BaseForm': 'が', 'PN': 'not found'}, {'BaseForm': '、', 'PN': 'not found'}, {'BaseForm': '概して', 'PN': -0.282576}, {'BaseForm': '云', 'PN': 'not found'}, {'BaseForm': 'ふと', 'PN': -0.622357}, {'BaseForm': '、', 'PN': 'not found'}, {'BaseForm': 'ワイルド', 'PN': 'not found'}, {'BaseForm': 'とか', 'PN': 'not found'}, {'BaseForm': 'ゴー', 'PN': 'not found'}, {'BaseForm': 'チエ', 'PN': 'not found'}, {'BaseForm': 'とかいふ', 'PN': 'not found'}, {'BaseForm': 'やう', 'PN': 'not found'}, {'BaseForm': 'な', 'PN': 'not found'}, {'BaseForm': '絢爛', 'PN': -0.503298}, {'BaseForm': '《', 'PN': 'not found'}, {'BaseForm': 'けんらん', 'PN': 'not found'}, {'BaseForm': '》', 'PN': 'not found'}, {'BaseForm': 'と', 'PN': -0.215793}, {'BaseForm': 'し', 'PN': 'not found'}, {'BaseForm': 'た', 'PN': 'not found'}, {'BaseForm': '小説', 'PN': -0.555883}, {'BaseForm': 'が', 'PN': 'not found'}, {'BaseForm': '好き', 'PN': 0.93204}, {'BaseForm': 'で', 'PN': 'not found'}, {'BaseForm': 'あつ', 'PN': 'not found'}, {'BaseForm': 'た', 'PN': 'not found'}, {'BaseForm': '。', 'PN': 'not found'}, {'BaseForm': 'それ', 'PN': 'not found'}, {'BaseForm': 'は', 'PN': 'not found'}, {'BaseForm': '僕', 'PN': 'not found'}, {'BaseForm': 'の', 'PN': 'not found'}, {'BaseForm': '気質', 'PN': -0.434996}, {'BaseForm': 'から', 'PN': 'not found'}, {'BaseForm': 'も', 'PN': 'not found'}, {'BaseForm': '来', 'PN': 'not found'}, {'BaseForm': 'て', 'PN': 'not found'}, {'BaseForm': 'ゐる', 'PN': 'not found'}, {'BaseForm': 'で', 'PN': 'not found'}, {'BaseForm': 'あらう', 'PN': 'not found'}, {'BaseForm': 'けれども', 'PN': 'not found'}, {'BaseForm': '、', 'PN': 'not found'}, {'BaseForm': '一つ', 'PN': 'not found'}, {'BaseForm': 'は', 'PN': 'not found'}, {'BaseForm': '慥', 'PN': 'not found'}, {'BaseForm': '《', 'PN': 'not found'}, {'BaseForm': 'たし', 'PN': 'not found'}, {'BaseForm': '》', 'PN': 'not found'}, {'BaseForm': 'か', 'PN': 'not found'}, {'BaseForm': 'に', 'PN': 'not found'}, {'BaseForm': '日本', 'PN': 'not found'}, {'BaseForm': 'の', 'PN': 'not found'}, {'BaseForm': '自然', 'PN': -0.656898}, {'BaseForm': '主義', 'PN': -0.765714}, {'BaseForm': '的', 'PN': -0.573711}, {'BaseForm': 'な', 'PN': 'not found'}, {'BaseForm': '小説', 'PN': -0.555883}, {'BaseForm': 'に', 'PN': 'not found'}, {'BaseForm': '厭き', 'PN': 'not found'}, {'BaseForm': 'た', 'PN': 'not found'}, {'BaseForm': '反動', 'PN': -0.542324}, {'BaseForm': 'で', 'PN': 'not found'}, {'BaseForm': 'あらう', 'PN': 'not found'}, {'BaseForm': 'と', 'PN': -0.215793}, {'BaseForm': '思ふ', 'PN': 'not found'}, {'BaseForm': '。', 'PN': 'not found'}, {'BaseForm': 'ところが', 'PN': 'not found'}, {'BaseForm': '、', 'PN': 'not found'}, {'BaseForm': '高等', 'PN': -0.314206}, {'BaseForm': '学校', 'PN': -0.762799}, {'BaseForm': 'を', 'PN': 'not found'}, {'BaseForm': '卒業', 'PN': -0.291601}, {'BaseForm': 'する', 'PN': 'not found'}, {'BaseForm': '前後', 'PN': -0.742648}, {'BaseForm': 'から', 'PN': 'not found'}, {'BaseForm': '、', 'PN': 'not found'}, {'BaseForm': 'どう', 'PN': -0.941861}, {'BaseForm': 'いふ', 'PN': 'not found'}, {'BaseForm': 'もの', 'PN': 'not found'}, {'BaseForm': 'か', 'PN': 'not found'}, {'BaseForm': '趣味', 'PN': -0.082412}, {'BaseForm': 'や', 'PN': -0.278384}, {'BaseForm': '物', 'PN': 'not found'}, {'BaseForm': 'の', 'PN': 'not found'}, {'BaseForm': '見方', 'PN': -0.449921}, {'BaseForm': 'に', 'PN': 'not found'}, {'BaseForm': '大きな', 'PN': 'not found'}, {'BaseForm': '曲折', 'PN': -0.464664}, {'BaseForm': 'が', 'PN': 'not found'}, {'BaseForm': '起つ', 'PN': 'not found'}, {'BaseForm': 'て', 'PN': 'not found'}, {'BaseForm': '、', 'PN': 'not found'}, {'BaseForm': '前', 'PN': 'not found'}, {'BaseForm': 'に', 'PN': 'not found'}, {'BaseForm': '言', 'PN': -0.4585}, {'BaseForm': 'つた', 'PN': 'not found'}, {'BaseForm': 'ワイルド', 'PN': 'not found'}, {'BaseForm': 'とか', 'PN': 'not found'}, {'BaseForm': 'ゴー', 'PN': 'not found'}, {'BaseForm': 'チエ', 'PN': 'not found'}, {'BaseForm': 'とか', 'PN': 'not found'}, {'BaseForm': 'といふ', 'PN': 'not found'}, {'BaseForm': '作家', 'PN': -0.253362}, {'BaseForm': 'の', 'PN': 'not found'}, {'BaseForm': 'もの', 'PN': 'not found'}, {'BaseForm': 'が', 'PN': 'not found'}, {'BaseForm': 'ひどく', 'PN': 'not found'}, {'BaseForm': 'いや', 'PN': 'not found'}, {'BaseForm': 'に', 'PN': 'not found'}, {'BaseForm': 'なつ', 'PN': 'not found'}, {'BaseForm': 'た', 'PN': 'not found'}, {'BaseForm': '。', 'PN': 'not found'}, {'BaseForm': 'ストリンドベルク', 'PN': 'not found'}, {'BaseForm': 'など', 'PN': 'not found'}, {'BaseForm': 'に', 'PN': 'not found'}, {'BaseForm': '傾倒', 'PN': -0.414309}, {'BaseForm': 'し', 'PN': 'not found'}, {'BaseForm': 'た', 'PN': 'not found'}, {'BaseForm': 'の', 'PN': 'not found'}, {'BaseForm': 'は', 'PN': 'not found'}, {'BaseForm': 'この', 'PN': 'not found'}, {'BaseForm': '頃', 'PN': 0.122945}, {'BaseForm': 'で', 'PN': 'not found'}, {'BaseForm': 'ある', 'PN': 'not found'}, {'BaseForm': '。', 'PN': 'not found'}, {'BaseForm': 'その', 'PN': 'not found'}, {'BaseForm': '時分', 'PN': 0.865806}, {'BaseForm': 'の', 'PN': 'not found'}, {'BaseForm': '僕', 'PN': 'not found'}, {'BaseForm': 'の', 'PN': 'not found'}, {'BaseForm': '心持', 'PN': -0.620775}, {'BaseForm': 'から', 'PN': 'not found'}, {'BaseForm': 'いふ', 'PN': 'not found'}, {'BaseForm': 'と', 'PN': -0.215793}, {'BaseForm': '、', 'PN': 'not found'}, {'BaseForm': 'ミケエロ・アンヂエロ', 'PN': 'not found'}, {'BaseForm': '風', 'PN': -0.979644}, {'BaseForm': 'な', 'PN': 'not found'}, {'BaseForm': '力', 'PN': -0.84291}, {'BaseForm': 'を', 'PN': 'not found'}, {'BaseForm': '持つ', 'PN': 'not found'}, {'BaseForm': 'て', 'PN': 'not found'}, {'BaseForm': 'ゐ', 'PN': 'not found'}, {'BaseForm': 'ない', 'PN': -0.999997}, {'BaseForm': '芸術', 'PN': -0.181182}, {'BaseForm': 'は', 'PN': 'not found'}, {'BaseForm': 'すべて', 'PN': 'not found'}, {'BaseForm': '瓦礫', 'PN': -0.988371}, {'BaseForm': 'の', 'PN': 'not found'}, {'BaseForm': 'やう', 'PN': 'not found'}, {'BaseForm': 'に', 'PN': 'not found'}, {'BaseForm': '感じ', 'PN': -0.97402}, {'BaseForm': 'られ', 'PN': 'not found'}, {'BaseForm': 'た', 'PN': 'not found'}, {'BaseForm': '。', 'PN': 'not found'}, {'BaseForm': 'これ', 'PN': 'not found'}, {'BaseForm': 'は', 'PN': 'not found'}, {'BaseForm': '当時', 'PN': 0.0151093}, {'BaseForm': '読ん', 'PN': 'not found'}, {'BaseForm': 'だ', 'PN': 'not found'}, {'BaseForm': '「', 'PN': 'not found'}, {'BaseForm': 'ジヤンクリストフ', 'PN': 'not found'}, {'BaseForm': '」', 'PN': 'not found'}, {'BaseForm': 'など', 'PN': 'not found'}, {'BaseForm': 'の', 'PN': 'not found'}, {'BaseForm': '影響', 'PN': -0.628764}, {'BaseForm': 'で', 'PN': 'not found'}, {'BaseForm': 'あつ', 'PN': 'not found'}, {'BaseForm': 'たら', 'PN': 'not found'}, {'BaseForm': 'う', 'PN': 'not found'}, {'BaseForm': 'と', 'PN': -0.215793}, {'BaseForm': '思ふ', 'PN': 'not found'}, {'BaseForm': '。', 'PN': 'not found'}, {'BaseForm': '\\u3000', 'PN': 'not found'}, {'BaseForm': 'さ', 'PN': -0.93584}, {'BaseForm': 'う', 'PN': 'not found'}, {'BaseForm': 'いふ', 'PN': 'not found'}, {'BaseForm': '心持', 'PN': -0.620775}, {'BaseForm': 'が', 'PN': 'not found'}, {'BaseForm': '大学', 'PN': -0.340721}, {'BaseForm': 'を', 'PN': 'not found'}, {'BaseForm': '卒業', 'PN': -0.291601}, {'BaseForm': 'する', 'PN': 'not found'}, {'BaseForm': '後', 'PN': -0.692761}, {'BaseForm': 'まで', 'PN': 'not found'}, {'BaseForm': 'も', 'PN': 'not found'}, {'BaseForm': '続い', 'PN': 'not found'}, {'BaseForm': 'た', 'PN': 'not found'}, {'BaseForm': 'が', 'PN': 'not found'}, {'BaseForm': '、', 'PN': 'not found'}, {'BaseForm': '段々', 'PN': 'not found'}, {'BaseForm': '燃える', 'PN': -0.829128}, {'BaseForm': 'やう', 'PN': 'not found'}, {'BaseForm': 'な', 'PN': 'not found'}, {'BaseForm': '力', 'PN': -0.84291}, {'BaseForm': 'の', 'PN': 'not found'}, {'BaseForm': '崇拝', 'PN': 0.201786}, {'BaseForm': 'も', 'PN': 'not found'}, {'BaseForm': 'うすらい', 'PN': 'not found'}, {'BaseForm': 'で', 'PN': 'not found'}, {'BaseForm': '、', 'PN': 'not found'}, {'BaseForm': '一', 'PN': 'not found'}, {'BaseForm': '年', 'PN': -0.899926}, {'BaseForm': '前', 'PN': 'not found'}, {'BaseForm': 'から', 'PN': 'not found'}, {'BaseForm': '静か', 'PN': 'not found'}, {'BaseForm': 'な', 'PN': 'not found'}, {'BaseForm': '力', 'PN': -0.84291}, {'BaseForm': 'の', 'PN': 'not found'}, {'BaseForm': 'ある', 'PN': 'not found'}, {'BaseForm': '書物', 'PN': -0.920758}, {'BaseForm': 'に', 'PN': 'not found'}, {'BaseForm': '最も', 'PN': -0.283575}, {'BaseForm': '心', 'PN': 'not found'}, {'BaseForm': 'を', 'PN': 'not found'}, {'BaseForm': '惹か', 'PN': 'not found'}, {'BaseForm': 'れる', 'PN': 'not found'}, {'BaseForm': 'やう', 'PN': 'not found'}, {'BaseForm': 'に', 'PN': 'not found'}, {'BaseForm': 'なつ', 'PN': 'not found'}, {'BaseForm': 'て', 'PN': 'not found'}, {'BaseForm': 'ゐる', 'PN': 'not found'}, {'BaseForm': '。', 'PN': 'not found'}, {'BaseForm': '但', 'PN': 'not found'}, {'BaseForm': '、', 'PN': 'not found'}, {'BaseForm': '静か', 'PN': 'not found'}, {'BaseForm': 'な', 'PN': 'not found'}, {'BaseForm': 'と', 'PN': -0.215793}, {'BaseForm': '言', 'PN': -0.4585}, {'BaseForm': 'つて', 'PN': 'not found'}, {'BaseForm': 'も', 'PN': 'not found'}, {'BaseForm': 'た', 'PN': 'not found'}, {'BaseForm': 'ゞ', 'PN': 'not found'}, {'BaseForm': '静か', 'PN': 'not found'}, {'BaseForm': 'だけ', 'PN': 'not found'}, {'BaseForm': 'でも', 'PN': 'not found'}, {'BaseForm': '力', 'PN': -0.84291}, {'BaseForm': 'の', 'PN': 'not found'}, {'BaseForm': 'ない', 'PN': -0.999997}, {'BaseForm': 'もの', 'PN': 'not found'}, {'BaseForm': 'に', 'PN': 'not found'}, {'BaseForm': 'は', 'PN': 'not found'}, {'BaseForm': '余り', 'PN': -0.716121}, {'BaseForm': '興味', 'PN': -0.465142}, {'BaseForm': 'が', 'PN': 'not found'}, {'BaseForm': 'ない', 'PN': -0.999997}, {'BaseForm': '。', 'PN': 'not found'}, {'BaseForm': 'スタンダール', 'PN': 'not found'}, {'BaseForm': 'や', 'PN': -0.278384}, {'BaseForm': 'メリメエ', 'PN': 'not found'}, {'BaseForm': 'や', 'PN': -0.278384}, {'BaseForm': '日本', 'PN': 'not found'}, {'BaseForm': '物', 'PN': 'not found'}, {'BaseForm': 'で', 'PN': 'not found'}, {'BaseForm': '西鶴', 'PN': 'not found'}, {'BaseForm': 'など', 'PN': 'not found'}, {'BaseForm': 'の', 'PN': 'not found'}, {'BaseForm': '小説', 'PN': -0.555883}, {'BaseForm': 'は', 'PN': 'not found'}, {'BaseForm': 'この', 'PN': 'not found'}, {'BaseForm': '点', 'PN': -0.650027}, {'BaseForm': 'で', 'PN': 'not found'}, {'BaseForm': '今', 'PN': -0.851644}, {'BaseForm': 'の', 'PN': 'not found'}, {'BaseForm': '僕', 'PN': 'not found'}, {'BaseForm': 'に', 'PN': 'not found'}, {'BaseForm': 'は', 'PN': 'not found'}, {'BaseForm': '面白く', 'PN': 'not found'}, {'BaseForm': 'も', 'PN': 'not found'}, {'BaseForm': 'あり', 'PN': 'not found'}, {'BaseForm': '、', 'PN': 'not found'}, {'BaseForm': '又', 'PN': -0.26744}, {'BaseForm': 'ため', 'PN': 'not found'}, {'BaseForm': '［＃「', 'PN': 'not found'}, {'BaseForm': 'ため', 'PN': 'not found'}, {'BaseForm': '」', 'PN': 'not found'}, {'BaseForm': 'に', 'PN': 'not found'}, {'BaseForm': '傍点', 'PN': -0.392084}, {'BaseForm': '］', 'PN': 'not found'}, {'BaseForm': 'に', 'PN': 'not found'}, {'BaseForm': 'も', 'PN': 'not found'}, {'BaseForm': 'なる', 'PN': 'not found'}, {'BaseForm': '本', 'PN': -0.902223}, {'BaseForm': 'で', 'PN': 'not found'}, {'BaseForm': 'ある', 'PN': 'not found'}, {'BaseForm': '。', 'PN': 'not found'}, {'BaseForm': '\\u3000', 'PN': 'not found'}, {'BaseForm': '序', 'PN': -0.637217}, {'BaseForm': 'ながら', 'PN': 'not found'}, {'BaseForm': '附け', 'PN': 'not found'}, {'BaseForm': '加', 'PN': 'not found'}, {'BaseForm': 'へ', 'PN': 'not found'}, {'BaseForm': 'て', 'PN': 'not found'}, {'BaseForm': 'おく', 'PN': 'not found'}, {'BaseForm': 'が', 'PN': 'not found'}, {'BaseForm': '、', 'PN': 'not found'}, {'BaseForm': '此間', 'PN': 'not found'}, {'BaseForm': '「', 'PN': 'not found'}, {'BaseForm': 'ジヤンクリストフ', 'PN': 'not found'}, {'BaseForm': '」', 'PN': 'not found'}, {'BaseForm': 'を', 'PN': 'not found'}, {'BaseForm': '出し', 'PN': 'not found'}, {'BaseForm': 'て', 'PN': 'not found'}, {'BaseForm': '読ん', 'PN': 'not found'}, {'BaseForm': 'で', 'PN': 'not found'}, {'BaseForm': '見', 'PN': 'not found'}, {'BaseForm': 'た', 'PN': 'not found'}, {'BaseForm': 'が', 'PN': 'not found'}, {'BaseForm': '、', 'PN': 'not found'}, {'BaseForm': '昔', 'PN': -0.971667}, {'BaseForm': 'ほど', 'PN': 'not found'}, {'BaseForm': '感興', 'PN': -0.0490895}, {'BaseForm': 'が', 'PN': 'not found'}, {'BaseForm': '乗ら', 'PN': 'not found'}, {'BaseForm': 'なかつ', 'PN': 'not found'}, {'BaseForm': 'た', 'PN': 'not found'}, {'BaseForm': '。', 'PN': 'not found'}, {'BaseForm': 'あの', 'PN': 'not found'}, {'BaseForm': '時分', 'PN': 0.865806}, {'BaseForm': 'の', 'PN': 'not found'}, {'BaseForm': '本', 'PN': -0.902223}, {'BaseForm': 'は', 'PN': 'not found'}, {'BaseForm': 'だめ', 'PN': 'not found'}, {'BaseForm': 'な', 'PN': 'not found'}, {'BaseForm': 'の', 'PN': 'not found'}, {'BaseForm': 'か', 'PN': 'not found'}, {'BaseForm': 'と', 'PN': -0.215793}, {'BaseForm': '思', 'PN': 'not found'}, {'BaseForm': 'つ', 'PN': 'not found'}, {'BaseForm': 'た', 'PN': 'not found'}, {'BaseForm': 'が', 'PN': 'not found'}, {'BaseForm': '、', 'PN': 'not found'}, {'BaseForm': '「', 'PN': 'not found'}, {'BaseForm': 'アンナカレニナ', 'PN': 'not found'}, {'BaseForm': '」', 'PN': 'not found'}, {'BaseForm': 'を', 'PN': 'not found'}, {'BaseForm': '出し', 'PN': 'not found'}, {'BaseForm': 'て', 'PN': 'not found'}, {'BaseForm': '二', 'PN': 'not found'}, {'BaseForm': '三', 'PN': -0.981313}, {'BaseForm': '章', 'PN': -0.596776}, {'BaseForm': '読ん', 'PN': 'not found'}, {'BaseForm': 'で', 'PN': 'not found'}, {'BaseForm': '見', 'PN': 'not found'}, {'BaseForm': 'たら', 'PN': 'not found'}, {'BaseForm': '、', 'PN': 'not found'}, {'BaseForm': 'これ', 'PN': 'not found'}, {'BaseForm': 'は', 'PN': 'not found'}, {'BaseForm': '昔', 'PN': -0.971667}, {'BaseForm': 'の', 'PN': 'not found'}, {'BaseForm': 'やう', 'PN': 'not found'}, {'BaseForm': 'に', 'PN': 'not found'}, {'BaseForm': '有難い', 'PN': 0.989597}, {'BaseForm': '気', 'PN': -0.978644}, {'BaseForm': 'が', 'PN': 'not found'}, {'BaseForm': 'し', 'PN': 'not found'}, {'BaseForm': 'た', 'PN': 'not found'}, {'BaseForm': '。', 'PN': 'not found'}, {'BaseForm': '底本', 'PN': -0.389199}, {'BaseForm': '：', 'PN': 'not found'}, {'BaseForm': '「', 'PN': 'not found'}, {'BaseForm': '芥川', 'PN': 'not found'}, {'BaseForm': '龍之介', 'PN': 'not found'}, {'BaseForm': '全集', 'PN': -0.130046}, {'BaseForm': '\\u3000', 'PN': 'not found'}, {'BaseForm': '第', 'PN': 'not found'}, {'BaseForm': '六', 'PN': -0.911482}, {'BaseForm': '巻', 'PN': -0.536024}, {'BaseForm': '」', 'PN': 'not found'}, {'BaseForm': '岩波書店', 'PN': 'not found'}, {'BaseForm': '\\u3000', 'PN': 'not found'}, {'BaseForm': '\\u3000', 'PN': 'not found'}, {'BaseForm': '\\u3000', 'PN': 'not found'}, {'BaseForm': '1996', 'PN': 'not found'}, {'BaseForm': '（', 'PN': 'not found'}, {'BaseForm': '平成', 'PN': 'not found'}, {'BaseForm': '8', 'PN': 'not found'}, {'BaseForm': '）', 'PN': 'not found'}, {'BaseForm': '年', 'PN': -0.899926}, {'BaseForm': '4', 'PN': 'not found'}, {'BaseForm': '月', 'PN': -0.91303}, {'BaseForm': '8', 'PN': 'not found'}, {'BaseForm': '日', 'PN': -0.903573}, {'BaseForm': '発行', 'PN': -0.63012}, {'BaseForm': '初出', 'PN': -0.109337}, {'BaseForm': '：', 'PN': 'not found'}, {'BaseForm': '「', 'PN': 'not found'}, {'BaseForm': '文章', 'PN': -0.963412}, {'BaseForm': '倶楽部', 'PN': 'not found'}, {'BaseForm': '\\u3000', 'PN': 'not found'}, {'BaseForm': '第', 'PN': 'not found'}, {'BaseForm': '5', 'PN': 'not found'}, {'BaseForm': '年', 'PN': -0.899926}, {'BaseForm': '第', 'PN': 'not found'}, {'BaseForm': '8', 'PN': 'not found'}, {'BaseForm': '号', 'PN': -0.48137}, {'BaseForm': '」', 'PN': 'not found'}, {'BaseForm': '\\u3000', 'PN': 'not found'}, {'BaseForm': '\\u3000', 'PN': 'not found'}, {'BaseForm': '\\u3000', 'PN': 'not found'}, {'BaseForm': '1920', 'PN': 'not found'}, {'BaseForm': '（', 'PN': 'not found'}, {'BaseForm': '大正', 'PN': 'not found'}, {'BaseForm': '9', 'PN': 'not found'}, {'BaseForm': '）', 'PN': 'not found'}, {'BaseForm': '年', 'PN': -0.899926}, {'BaseForm': '8', 'PN': 'not found'}, {'BaseForm': '月', 'PN': -0.91303}, {'BaseForm': '1', 'PN': 'not found'}, {'BaseForm': '日', 'PN': -0.903573}, {'BaseForm': '発行', 'PN': -0.63012}, {'BaseForm': '※', 'PN': 'not found'}, {'BaseForm': '初出', 'PN': -0.109337}, {'BaseForm': '誌', 'PN': -0.49222}, {'BaseForm': 'に', 'PN': 'not found'}, {'BaseForm': '、', 'PN': 'not found'}, {'BaseForm': '顔', 'PN': -0.974974}, {'BaseForm': '写真', 'PN': -0.873725}, {'BaseForm': 'と', 'PN': -0.215793}, {'BaseForm': '「', 'PN': 'not found'}, {'BaseForm': '曇天', 'PN': -0.486692}, {'BaseForm': 'の', 'PN': 'not found'}, {'BaseForm': '水', 'PN': 'not found'}, {'BaseForm': '動か', 'PN': 'not found'}, {'BaseForm': 'ず', 'PN': 'not found'}, {'BaseForm': 'よ', 'PN': 'not found'}, {'BaseForm': '芹', 'PN': -0.506367}, {'BaseForm': 'の', 'PN': 'not found'}, {'BaseForm': '中', 'PN': -0.979874}, {'BaseForm': '」', 'PN': 'not found'}, {'BaseForm': 'の', 'PN': 'not found'}, {'BaseForm': '句', 'PN': 'not found'}, {'BaseForm': 'の', 'PN': 'not found'}, {'BaseForm': '筆跡', 'PN': -0.221062}, {'BaseForm': '写真', 'PN': -0.873725}, {'BaseForm': 'と共に', 'PN': 'not found'}, {'BaseForm': '掲載', 'PN': -0.395948}, {'BaseForm': 'さ', 'PN': -0.93584}, {'BaseForm': 'れ', 'PN': 'not found'}, {'BaseForm': 'た', 'PN': 'not found'}, {'BaseForm': '。', 'PN': 'not found'}, {'BaseForm': '入力', 'PN': -0.273497}, {'BaseForm': '：', 'PN': 'not found'}, {'BaseForm': '砂場', 'PN': -0.544363}, {'BaseForm': '清隆', 'PN': 'not found'}, {'BaseForm': '校正', 'PN': -0.468858}, {'BaseForm': '：', 'PN': 'not found'}, {'BaseForm': '高柳', 'PN': 'not found'}, {'BaseForm': '典子', 'PN': 'not found'}, {'BaseForm': '2006', 'PN': 'not found'}, {'BaseForm': '年', 'PN': -0.899926}, {'BaseForm': '2', 'PN': 'not found'}, {'BaseForm': '月', 'PN': -0.91303}, {'BaseForm': '21', 'PN': 'not found'}, {'BaseForm': '日', 'PN': -0.903573}, {'BaseForm': '作成', 'PN': -0.443763}, {'BaseForm': '2006', 'PN': 'not found'}, {'BaseForm': '年', 'PN': -0.899926}, {'BaseForm': '4', 'PN': 'not found'}, {'BaseForm': '月', 'PN': -0.91303}, {'BaseForm': '5', 'PN': 'not found'}, {'BaseForm': '日', 'PN': -0.903573}, {'BaseForm': '修正', 'PN': 0.965501}, {'BaseForm': '青空', 'PN': -0.0108755}, {'BaseForm': '文庫', 'PN': -0.53682}, {'BaseForm': '作成', 'PN': -0.443763}, {'BaseForm': 'ファイル', 'PN': -0.501786}, {'BaseForm': '：', 'PN': 'not found'}, {'BaseForm': 'この', 'PN': 'not found'}, {'BaseForm': 'ファイル', 'PN': -0.501786}, {'BaseForm': 'は', 'PN': 'not found'}, {'BaseForm': '、', 'PN': 'not found'}, {'BaseForm': 'インターネット', 'PN': 'not found'}, {'BaseForm': 'の', 'PN': 'not found'}, {'BaseForm': '図書館', 'PN': -0.366915}, {'BaseForm': '、', 'PN': 'not found'}, {'BaseForm': '青空', 'PN': -0.0108755}, {'BaseForm': '文庫', 'PN': -0.53682}, {'BaseForm': '（', 'PN': 'not found'}, {'BaseForm': 'http', 'PN': 'not found'}, {'BaseForm': '://', 'PN': 'not found'}, {'BaseForm': 'www', 'PN': 'not found'}, {'BaseForm': '.', 'PN': 'not found'}, {'BaseForm': 'aozora', 'PN': 'not found'}, {'BaseForm': '.', 'PN': 'not found'}, {'BaseForm': 'gr', 'PN': 'not found'}, {'BaseForm': '.', 'PN': 'not found'}, {'BaseForm': 'jp', 'PN': 'not found'}, {'BaseForm': '/）', 'PN': 'not found'}, {'BaseForm': 'で', 'PN': 'not found'}, {'BaseForm': '作ら', 'PN': 'not found'}, {'BaseForm': 'れ', 'PN': 'not found'}, {'BaseForm': 'まし', 'PN': 'not found'}, {'BaseForm': 'た', 'PN': 'not found'}, {'BaseForm': '。', 'PN': 'not found'}, {'BaseForm': '入力', 'PN': -0.273497}, {'BaseForm': '、', 'PN': 'not found'}, {'BaseForm': '校正', 'PN': -0.468858}, {'BaseForm': '、', 'PN': 'not found'}, {'BaseForm': '制作', 'PN': 'not found'}, {'BaseForm': 'に', 'PN': 'not found'}, {'BaseForm': 'あたっ', 'PN': 'not found'}, {'BaseForm': 'た', 'PN': 'not found'}, {'BaseForm': 'の', 'PN': 'not found'}, {'BaseForm': 'は', 'PN': 'not found'}, {'BaseForm': '、', 'PN': 'not found'}, {'BaseForm': 'ボランティア', 'PN': -0.163602}, {'BaseForm': 'の', 'PN': 'not found'}, {'BaseForm': '皆さん', 'PN': 'not found'}, {'BaseForm': 'です', 'PN': 'not found'}]\n"
          ]
        }
      ]
    },
    {
      "cell_type": "markdown",
      "source": [
        "\n",
        "\n",
        "```\n",
        "# ここで辞書型の復習\n",
        "pn_list[0]              # {'BaseForm': '愛読', 'PN': -0.207109}\n",
        "pn_list[0][\"BaseForm\"]  # \"愛読\"     valueの抽出\n",
        "pn_list[0][\"PN\"]        # -0.207109  valueの抽出\n",
        "```\n",
        "\n"
      ],
      "metadata": {
        "id": "92S0nU1vpTLp"
      }
    },
    {
      "cell_type": "markdown",
      "source": [
        "これで辞書と形態素解析した単語達が揃いました。双方を掛け合わせましょう。　\n",
        "<font color=\"red\">Aidemyの教材コード</font>から大分いじくっています。"
      ],
      "metadata": {
        "id": "iVnpWi3IrLCu"
      }
    },
    {
      "cell_type": "code",
      "source": [
        "# 解析結果のリストからPNTableに存在する単語を抽出します\n",
        "\n",
        "def add_pnvalue(old_wordlist):\n",
        "    diclist_new = []\n",
        "    new_pn_list = []                                                   # 入れ物の作成\n",
        "    for word in old_wordlist:\n",
        "        baseword = word['BaseForm']                                    # old_wordlistの分かち書きされた単語達。\n",
        "        if baseword in PN_dict:                                        # in PN_dic⇒PN dict のkey \n",
        "            # PNTableに存在していれば極性値とその単語を追加します ⇒ floatにしている。 in dict python \n",
        "            pn = float(PN_dict[baseword])\n",
        "        else:\n",
        "            # 存在していなければnotfoundを明記します\n",
        "            pn = 'not found'\n",
        "        word['PN'] = pn                                                # 独自関数により新しく篩い分けられたpnを新たなPNのvalueとします。\n",
        "        diclist_new.append(word)\n",
        "    for d in diclist_new:                                              # ここのfor文で not found を間引いています。⇒ちょっと独自関数に無駄がないかな？\n",
        "      if d['PN'] != 'not found':\n",
        "        new_pn_list.append(d)   \n",
        "    \n",
        "    df = pd.DataFrame(new_pn_list)                                     # DFに変換しています。\n",
        "    return(df)"
      ],
      "metadata": {
        "id": "KcgueqD6vRDf"
      },
      "execution_count": null,
      "outputs": []
    },
    {
      "cell_type": "markdown",
      "source": [
        "上の独自関数のポイントは`if baseword in PN_dict:`です。これは良くある`for i in list1:`とは<font color=\"red\">異なる機能を持つin</font>です。\n",
        "\n",
        "`if baseword in PN_dict:`　\n",
        "\n",
        "PN_dictのkeyとbasewordが<font color=\"red\">一致している</font>時、という意味です。その後にif文につなぎます。\n",
        "　　\n",
        "`for a in b`かと思って手間取ったので。\n",
        "\n",
        "それとも、basewordの要素がPN_dictのkeyに一つでも入っていたら？という事？\n",
        "\n"
      ],
      "metadata": {
        "id": "LkbbBtdKiIMf"
      }
    },
    {
      "cell_type": "code",
      "source": [
        "Result_PN_Akudagawa = add_pnvalue(wordlist) # 独自関数に噛ませた結果を確認してみましょう。\n",
        "Result_PN_Akudagawa"
      ],
      "metadata": {
        "id": "Fj7N9GE8sLur",
        "colab": {
          "base_uri": "https://localhost:8080/",
          "height": 423
        },
        "outputId": "bfacd7c8-94a9-443c-b72e-551c806cf42f"
      },
      "execution_count": null,
      "outputs": [
        {
          "output_type": "execute_result",
          "data": {
            "text/plain": [
              "    BaseForm        PN\n",
              "0         愛読 -0.207109\n",
              "1          書 -0.688965\n",
              "2         印象 -0.370506\n",
              "3       テキスト -0.315420\n",
              "4          中 -0.979874\n",
              "..       ...       ...\n",
              "227       青空 -0.010875\n",
              "228       文庫 -0.536820\n",
              "229       入力 -0.273497\n",
              "230       校正 -0.468858\n",
              "231   ボランティア -0.163602\n",
              "\n",
              "[232 rows x 2 columns]"
            ],
            "text/html": [
              "\n",
              "  <div id=\"df-fe5117da-9207-4a45-8218-213496d3a9d5\">\n",
              "    <div class=\"colab-df-container\">\n",
              "      <div>\n",
              "<style scoped>\n",
              "    .dataframe tbody tr th:only-of-type {\n",
              "        vertical-align: middle;\n",
              "    }\n",
              "\n",
              "    .dataframe tbody tr th {\n",
              "        vertical-align: top;\n",
              "    }\n",
              "\n",
              "    .dataframe thead th {\n",
              "        text-align: right;\n",
              "    }\n",
              "</style>\n",
              "<table border=\"1\" class=\"dataframe\">\n",
              "  <thead>\n",
              "    <tr style=\"text-align: right;\">\n",
              "      <th></th>\n",
              "      <th>BaseForm</th>\n",
              "      <th>PN</th>\n",
              "    </tr>\n",
              "  </thead>\n",
              "  <tbody>\n",
              "    <tr>\n",
              "      <th>0</th>\n",
              "      <td>愛読</td>\n",
              "      <td>-0.207109</td>\n",
              "    </tr>\n",
              "    <tr>\n",
              "      <th>1</th>\n",
              "      <td>書</td>\n",
              "      <td>-0.688965</td>\n",
              "    </tr>\n",
              "    <tr>\n",
              "      <th>2</th>\n",
              "      <td>印象</td>\n",
              "      <td>-0.370506</td>\n",
              "    </tr>\n",
              "    <tr>\n",
              "      <th>3</th>\n",
              "      <td>テキスト</td>\n",
              "      <td>-0.315420</td>\n",
              "    </tr>\n",
              "    <tr>\n",
              "      <th>4</th>\n",
              "      <td>中</td>\n",
              "      <td>-0.979874</td>\n",
              "    </tr>\n",
              "    <tr>\n",
              "      <th>...</th>\n",
              "      <td>...</td>\n",
              "      <td>...</td>\n",
              "    </tr>\n",
              "    <tr>\n",
              "      <th>227</th>\n",
              "      <td>青空</td>\n",
              "      <td>-0.010875</td>\n",
              "    </tr>\n",
              "    <tr>\n",
              "      <th>228</th>\n",
              "      <td>文庫</td>\n",
              "      <td>-0.536820</td>\n",
              "    </tr>\n",
              "    <tr>\n",
              "      <th>229</th>\n",
              "      <td>入力</td>\n",
              "      <td>-0.273497</td>\n",
              "    </tr>\n",
              "    <tr>\n",
              "      <th>230</th>\n",
              "      <td>校正</td>\n",
              "      <td>-0.468858</td>\n",
              "    </tr>\n",
              "    <tr>\n",
              "      <th>231</th>\n",
              "      <td>ボランティア</td>\n",
              "      <td>-0.163602</td>\n",
              "    </tr>\n",
              "  </tbody>\n",
              "</table>\n",
              "<p>232 rows × 2 columns</p>\n",
              "</div>\n",
              "      <button class=\"colab-df-convert\" onclick=\"convertToInteractive('df-fe5117da-9207-4a45-8218-213496d3a9d5')\"\n",
              "              title=\"Convert this dataframe to an interactive table.\"\n",
              "              style=\"display:none;\">\n",
              "        \n",
              "  <svg xmlns=\"http://www.w3.org/2000/svg\" height=\"24px\"viewBox=\"0 0 24 24\"\n",
              "       width=\"24px\">\n",
              "    <path d=\"M0 0h24v24H0V0z\" fill=\"none\"/>\n",
              "    <path d=\"M18.56 5.44l.94 2.06.94-2.06 2.06-.94-2.06-.94-.94-2.06-.94 2.06-2.06.94zm-11 1L8.5 8.5l.94-2.06 2.06-.94-2.06-.94L8.5 2.5l-.94 2.06-2.06.94zm10 10l.94 2.06.94-2.06 2.06-.94-2.06-.94-.94-2.06-.94 2.06-2.06.94z\"/><path d=\"M17.41 7.96l-1.37-1.37c-.4-.4-.92-.59-1.43-.59-.52 0-1.04.2-1.43.59L10.3 9.45l-7.72 7.72c-.78.78-.78 2.05 0 2.83L4 21.41c.39.39.9.59 1.41.59.51 0 1.02-.2 1.41-.59l7.78-7.78 2.81-2.81c.8-.78.8-2.07 0-2.86zM5.41 20L4 18.59l7.72-7.72 1.47 1.35L5.41 20z\"/>\n",
              "  </svg>\n",
              "      </button>\n",
              "      \n",
              "  <style>\n",
              "    .colab-df-container {\n",
              "      display:flex;\n",
              "      flex-wrap:wrap;\n",
              "      gap: 12px;\n",
              "    }\n",
              "\n",
              "    .colab-df-convert {\n",
              "      background-color: #E8F0FE;\n",
              "      border: none;\n",
              "      border-radius: 50%;\n",
              "      cursor: pointer;\n",
              "      display: none;\n",
              "      fill: #1967D2;\n",
              "      height: 32px;\n",
              "      padding: 0 0 0 0;\n",
              "      width: 32px;\n",
              "    }\n",
              "\n",
              "    .colab-df-convert:hover {\n",
              "      background-color: #E2EBFA;\n",
              "      box-shadow: 0px 1px 2px rgba(60, 64, 67, 0.3), 0px 1px 3px 1px rgba(60, 64, 67, 0.15);\n",
              "      fill: #174EA6;\n",
              "    }\n",
              "\n",
              "    [theme=dark] .colab-df-convert {\n",
              "      background-color: #3B4455;\n",
              "      fill: #D2E3FC;\n",
              "    }\n",
              "\n",
              "    [theme=dark] .colab-df-convert:hover {\n",
              "      background-color: #434B5C;\n",
              "      box-shadow: 0px 1px 3px 1px rgba(0, 0, 0, 0.15);\n",
              "      filter: drop-shadow(0px 1px 2px rgba(0, 0, 0, 0.3));\n",
              "      fill: #FFFFFF;\n",
              "    }\n",
              "  </style>\n",
              "\n",
              "      <script>\n",
              "        const buttonEl =\n",
              "          document.querySelector('#df-fe5117da-9207-4a45-8218-213496d3a9d5 button.colab-df-convert');\n",
              "        buttonEl.style.display =\n",
              "          google.colab.kernel.accessAllowed ? 'block' : 'none';\n",
              "\n",
              "        async function convertToInteractive(key) {\n",
              "          const element = document.querySelector('#df-fe5117da-9207-4a45-8218-213496d3a9d5');\n",
              "          const dataTable =\n",
              "            await google.colab.kernel.invokeFunction('convertToInteractive',\n",
              "                                                     [key], {});\n",
              "          if (!dataTable) return;\n",
              "\n",
              "          const docLinkHtml = 'Like what you see? Visit the ' +\n",
              "            '<a target=\"_blank\" href=https://colab.research.google.com/notebooks/data_table.ipynb>data table notebook</a>'\n",
              "            + ' to learn more about interactive tables.';\n",
              "          element.innerHTML = '';\n",
              "          dataTable['output_type'] = 'display_data';\n",
              "          await google.colab.output.renderOutput(dataTable, element);\n",
              "          const docLink = document.createElement('div');\n",
              "          docLink.innerHTML = docLinkHtml;\n",
              "          element.appendChild(docLink);\n",
              "        }\n",
              "      </script>\n",
              "    </div>\n",
              "  </div>\n",
              "  "
            ]
          },
          "metadata": {},
          "execution_count": 87
        }
      ]
    },
    {
      "cell_type": "markdown",
      "source": [
        "### 判定が終わった後の総評価"
      ],
      "metadata": {
        "id": "8VHQSVB5y7zL"
      }
    },
    {
      "cell_type": "code",
      "source": [
        "# 極性辞書に噛ませた文章のPNに着目してみましょう。\n",
        "Result_PN_Akudagawa[\"PN\"].describe()"
      ],
      "metadata": {
        "colab": {
          "base_uri": "https://localhost:8080/"
        },
        "id": "AndrzUnJOw19",
        "outputId": "dcf3074d-1655-4b19-85f4-85b4449fdfe5"
      },
      "execution_count": null,
      "outputs": [
        {
          "output_type": "execute_result",
          "data": {
            "text/plain": [
              "count    232.000000\n",
              "mean      -0.492728\n",
              "std        0.431765\n",
              "min       -0.999997\n",
              "25%       -0.885089\n",
              "50%       -0.512985\n",
              "75%       -0.273497\n",
              "max        0.997259\n",
              "Name: PN, dtype: float64"
            ]
          },
          "metadata": {},
          "execution_count": 89
        }
      ]
    },
    {
      "cell_type": "markdown",
      "source": [
        "`mean      -0.492728`\n",
        "\n",
        "結論：テスト用に読み込んだこの文章は結構なネガティブ寄りだ。芥川だから予想はしてたけど。"
      ],
      "metadata": {
        "id": "8HANlgWFPTaO"
      }
    },
    {
      "cell_type": "markdown",
      "source": [
        "### 別の文章を読み込んでみる"
      ],
      "metadata": {
        "id": "JSL9938ak-dX"
      }
    },
    {
      "cell_type": "markdown",
      "source": [
        "とりあえず適当なポジティブそうな歌詞を読み込ませて極性辞書のネガポジ判定をさせてみる。　例えば･･･"
      ],
      "metadata": {
        "id": "kDthZYGRnSWa"
      }
    },
    {
      "cell_type": "markdown",
      "source": [
        "#### 長渕剛の｢乾杯｣"
      ],
      "metadata": {
        "id": "l7HJqj9jrTt3"
      }
    },
    {
      "cell_type": "markdown",
      "source": [
        "こんなのポジティブに決まっている。｢君に幸あれ｣って言ってますからね。"
      ],
      "metadata": {
        "id": "V1OnZAAWrbMg"
      }
    },
    {
      "cell_type": "code",
      "source": [
        "Nagabuchi = '''かたい絆に 思いをよせて\n",
        "            語り尽くせぬ 青春の日々\n",
        "            時には傷つき 時には喜び\n",
        "            肩をたたきあった あの日\n",
        "            あれから どれくらいたったのだろう\n",
        "            沈む夕陽を いくつ数えたろう\n",
        "            故郷の友は 今でも君の 心の中にいますか\n",
        "            \n",
        "            乾杯!今君は人生の\n",
        "            大きな 大きな 舞台に立ち\n",
        "            遥か長い道のりを 歩き始めた\n",
        "            君に幸せあれ!\n",
        "\n",
        "            キャンドルライトの中の二人を\n",
        "            今こうして 目を細めてる\n",
        "            大きな喜びと 少しのさみしさを\n",
        "            涙の言葉で歌いたい\n",
        "            明日の光を 身体にあびて\n",
        "            ふり返らずに そのまま行けばよい\n",
        "            風に吹かれても 雨に打たれても\n",
        "            信じた愛に 背を向けるな\n",
        "\n",
        "            乾杯!今君は人生の\n",
        "            大きな 大きな 舞台に立ち\n",
        "            遥か長い道のりを 歩き始めた\n",
        "            君に幸せあれ!\n",
        "\n",
        "            乾杯!今君は人生の\n",
        "            大きな 大きな 舞台に立ち\n",
        "            遥か長い道のりを 歩き始めた\n",
        "            君に幸せあれ!\n",
        "              '''"
      ],
      "metadata": {
        "id": "lzJv-va-lCBG"
      },
      "execution_count": null,
      "outputs": []
    },
    {
      "cell_type": "markdown",
      "source": [
        "記事を読み込んだ際に使用した独自関数は最後の2行を削除しているので、この歌詞には使用できません。なので別の関数を用意しました。"
      ],
      "metadata": {
        "id": "0MLcQ6fBrwow"
      }
    },
    {
      "cell_type": "code",
      "source": [
        "import re\n",
        "mecab = MeCab.Tagger('-Owakati')                     # 分かち書きに指定\n",
        "def get_diclist2(file):\n",
        "    parsed = mecab.parse(file)                       # 分かち書きを行います。\n",
        "    # 解析結果を改行ごとに区切ります\n",
        "    lines = parsed.split(' ')                        # 文章を\" \" 空行で区切っています。\n",
        "                                                     # 後ろ2行を削除した新しいリストを作ります\n",
        "    #解析結果のリストを作成します\n",
        "    diclist = []                                    # 解析結果はここに格納されます。\n",
        "    for word in lines:\n",
        "        datalist = {'BaseForm':word}                # 分かち書き結果をpick upして\"BaseForm\"というkey名を付けてvalueとして格納。\n",
        "        diclist.append(datalist)                    # 追加\n",
        "    return(diclist)"
      ],
      "metadata": {
        "id": "2NjPUF5Spt3Y"
      },
      "execution_count": null,
      "outputs": []
    },
    {
      "cell_type": "code",
      "source": [
        "# 無事分かち書き出来ました。\n",
        "Nagabuchi2 = get_diclist2(Nagabuchi)\n",
        "print(Nagabuchi2)"
      ],
      "metadata": {
        "colab": {
          "base_uri": "https://localhost:8080/"
        },
        "id": "KJ9SF18pp6Fg",
        "outputId": "08bb4cdd-afeb-4f62-9e4d-375e0b3c7943"
      },
      "execution_count": null,
      "outputs": [
        {
          "output_type": "stream",
          "name": "stdout",
          "text": [
            "[{'BaseForm': 'かたい'}, {'BaseForm': '絆'}, {'BaseForm': 'に'}, {'BaseForm': '思い'}, {'BaseForm': 'を'}, {'BaseForm': 'よせ'}, {'BaseForm': 'て'}, {'BaseForm': '語り'}, {'BaseForm': '尽くせ'}, {'BaseForm': 'ぬ'}, {'BaseForm': '青春'}, {'BaseForm': 'の'}, {'BaseForm': '日々'}, {'BaseForm': '時'}, {'BaseForm': 'に'}, {'BaseForm': 'は'}, {'BaseForm': '傷つき'}, {'BaseForm': '時'}, {'BaseForm': 'に'}, {'BaseForm': 'は'}, {'BaseForm': '喜び'}, {'BaseForm': '肩'}, {'BaseForm': 'を'}, {'BaseForm': 'たたき'}, {'BaseForm': 'あっ'}, {'BaseForm': 'た'}, {'BaseForm': 'あの'}, {'BaseForm': '日'}, {'BaseForm': 'あれ'}, {'BaseForm': 'から'}, {'BaseForm': 'どれ'}, {'BaseForm': 'くらい'}, {'BaseForm': 'たっ'}, {'BaseForm': 'た'}, {'BaseForm': 'の'}, {'BaseForm': 'だろ'}, {'BaseForm': 'う'}, {'BaseForm': '沈む'}, {'BaseForm': '夕陽'}, {'BaseForm': 'を'}, {'BaseForm': 'いくつ'}, {'BaseForm': '数え'}, {'BaseForm': 'たろ'}, {'BaseForm': 'う'}, {'BaseForm': '故郷'}, {'BaseForm': 'の'}, {'BaseForm': '友'}, {'BaseForm': 'は'}, {'BaseForm': '今'}, {'BaseForm': 'でも'}, {'BaseForm': '君'}, {'BaseForm': 'の'}, {'BaseForm': '心'}, {'BaseForm': 'の'}, {'BaseForm': '中'}, {'BaseForm': 'に'}, {'BaseForm': 'い'}, {'BaseForm': 'ます'}, {'BaseForm': 'か'}, {'BaseForm': '乾杯'}, {'BaseForm': '!'}, {'BaseForm': '今'}, {'BaseForm': '君'}, {'BaseForm': 'は'}, {'BaseForm': '人生'}, {'BaseForm': 'の'}, {'BaseForm': '大きな'}, {'BaseForm': '大きな'}, {'BaseForm': '舞台'}, {'BaseForm': 'に'}, {'BaseForm': '立ち'}, {'BaseForm': '遥か'}, {'BaseForm': '長い'}, {'BaseForm': '道のり'}, {'BaseForm': 'を'}, {'BaseForm': '歩き'}, {'BaseForm': '始め'}, {'BaseForm': 'た'}, {'BaseForm': '君'}, {'BaseForm': 'に'}, {'BaseForm': '幸せ'}, {'BaseForm': 'あれ'}, {'BaseForm': '!'}, {'BaseForm': 'キャンドル'}, {'BaseForm': 'ライト'}, {'BaseForm': 'の'}, {'BaseForm': '中'}, {'BaseForm': 'の'}, {'BaseForm': '二'}, {'BaseForm': '人'}, {'BaseForm': 'を'}, {'BaseForm': '今'}, {'BaseForm': 'こうして'}, {'BaseForm': '目'}, {'BaseForm': 'を'}, {'BaseForm': '細め'}, {'BaseForm': 'てる'}, {'BaseForm': '大きな'}, {'BaseForm': '喜び'}, {'BaseForm': 'と'}, {'BaseForm': '少し'}, {'BaseForm': 'の'}, {'BaseForm': 'さみし'}, {'BaseForm': 'さ'}, {'BaseForm': 'を'}, {'BaseForm': '涙'}, {'BaseForm': 'の'}, {'BaseForm': '言葉'}, {'BaseForm': 'で'}, {'BaseForm': '歌い'}, {'BaseForm': 'たい'}, {'BaseForm': '明日'}, {'BaseForm': 'の'}, {'BaseForm': '光'}, {'BaseForm': 'を'}, {'BaseForm': '身体'}, {'BaseForm': 'に'}, {'BaseForm': 'あび'}, {'BaseForm': 'て'}, {'BaseForm': 'ふり'}, {'BaseForm': '返ら'}, {'BaseForm': 'ず'}, {'BaseForm': 'に'}, {'BaseForm': 'そのまま'}, {'BaseForm': '行け'}, {'BaseForm': 'ば'}, {'BaseForm': 'よい'}, {'BaseForm': '風'}, {'BaseForm': 'に'}, {'BaseForm': '吹か'}, {'BaseForm': 'れ'}, {'BaseForm': 'て'}, {'BaseForm': 'も'}, {'BaseForm': '雨'}, {'BaseForm': 'に'}, {'BaseForm': '打た'}, {'BaseForm': 'れ'}, {'BaseForm': 'て'}, {'BaseForm': 'も'}, {'BaseForm': '信じ'}, {'BaseForm': 'た'}, {'BaseForm': '愛'}, {'BaseForm': 'に'}, {'BaseForm': '背'}, {'BaseForm': 'を'}, {'BaseForm': '向ける'}, {'BaseForm': 'な'}, {'BaseForm': '乾杯'}, {'BaseForm': '!'}, {'BaseForm': '今'}, {'BaseForm': '君'}, {'BaseForm': 'は'}, {'BaseForm': '人生'}, {'BaseForm': 'の'}, {'BaseForm': '大きな'}, {'BaseForm': '大きな'}, {'BaseForm': '舞台'}, {'BaseForm': 'に'}, {'BaseForm': '立ち'}, {'BaseForm': '遥か'}, {'BaseForm': '長い'}, {'BaseForm': '道のり'}, {'BaseForm': 'を'}, {'BaseForm': '歩き'}, {'BaseForm': '始め'}, {'BaseForm': 'た'}, {'BaseForm': '君'}, {'BaseForm': 'に'}, {'BaseForm': '幸せ'}, {'BaseForm': 'あれ'}, {'BaseForm': '!'}, {'BaseForm': '乾杯'}, {'BaseForm': '!'}, {'BaseForm': '今'}, {'BaseForm': '君'}, {'BaseForm': 'は'}, {'BaseForm': '人生'}, {'BaseForm': 'の'}, {'BaseForm': '大きな'}, {'BaseForm': '大きな'}, {'BaseForm': '舞台'}, {'BaseForm': 'に'}, {'BaseForm': '立ち'}, {'BaseForm': '遥か'}, {'BaseForm': '長い'}, {'BaseForm': '道のり'}, {'BaseForm': 'を'}, {'BaseForm': '歩き'}, {'BaseForm': '始め'}, {'BaseForm': 'た'}, {'BaseForm': '君'}, {'BaseForm': 'に'}, {'BaseForm': '幸せ'}, {'BaseForm': 'あれ'}, {'BaseForm': '!'}, {'BaseForm': '\\n'}]\n"
          ]
        }
      ]
    },
    {
      "cell_type": "markdown",
      "source": [
        "そうしましたら、それを先ほど作成した`add_pnvalue`関数にかけます。\n",
        "　これでnot foundを除いたPNリストがdfにて作成されるはずです。"
      ],
      "metadata": {
        "id": "PT9Nu3F7sOnD"
      }
    },
    {
      "cell_type": "code",
      "source": [
        "Result_PN_Nagabuchi= add_pnvalue(Nagabuchi2) # 独自関数に噛ませた結果を確認してみましょう。\n",
        "Result_PN_Nagabuchi"
      ],
      "metadata": {
        "colab": {
          "base_uri": "https://localhost:8080/",
          "height": 1000
        },
        "id": "U4ghFBwhqzwK",
        "outputId": "481ce6be-57c5-4d09-efc4-21896203e07f"
      },
      "execution_count": null,
      "outputs": [
        {
          "output_type": "execute_result",
          "data": {
            "text/plain": [
              "   BaseForm        PN\n",
              "0         絆 -0.325200\n",
              "1        思い -0.678658\n",
              "2         ぬ -0.998545\n",
              "3        青春  0.971646\n",
              "4         時 -0.753339\n",
              "5         時 -0.753339\n",
              "6        喜び  0.998861\n",
              "7         肩 -0.908549\n",
              "8         日 -0.903573\n",
              "9        沈む -0.907695\n",
              "10       故郷 -0.508876\n",
              "11        友 -0.511554\n",
              "12        今 -0.851644\n",
              "13        中 -0.979874\n",
              "14       乾杯  0.961356\n",
              "15        今 -0.851644\n",
              "16       人生 -0.195237\n",
              "17       舞台 -0.803359\n",
              "18       遥か -0.283165\n",
              "19      ライト -0.578207\n",
              "20        中 -0.979874\n",
              "21        今 -0.851644\n",
              "22        目 -0.993459\n",
              "23       喜び  0.998861\n",
              "24        と -0.215793\n",
              "25       少し -0.971390\n",
              "26        さ -0.935840\n",
              "27        涙 -0.985522\n",
              "28       言葉 -0.984295\n",
              "29       明日 -0.600093\n",
              "30        光 -0.897571\n",
              "31       身体 -0.846328\n",
              "32        風 -0.979644\n",
              "33        雨 -0.958257\n",
              "34        愛  0.984270\n",
              "35        背 -0.925189\n",
              "36      向ける -0.774755\n",
              "37       乾杯  0.961356\n",
              "38        今 -0.851644\n",
              "39       人生 -0.195237\n",
              "40       舞台 -0.803359\n",
              "41       遥か -0.283165\n",
              "42       乾杯  0.961356\n",
              "43        今 -0.851644\n",
              "44       人生 -0.195237\n",
              "45       舞台 -0.803359\n",
              "46       遥か -0.283165"
            ],
            "text/html": [
              "\n",
              "  <div id=\"df-be092e28-e84a-4b1d-b705-803ff9edc119\">\n",
              "    <div class=\"colab-df-container\">\n",
              "      <div>\n",
              "<style scoped>\n",
              "    .dataframe tbody tr th:only-of-type {\n",
              "        vertical-align: middle;\n",
              "    }\n",
              "\n",
              "    .dataframe tbody tr th {\n",
              "        vertical-align: top;\n",
              "    }\n",
              "\n",
              "    .dataframe thead th {\n",
              "        text-align: right;\n",
              "    }\n",
              "</style>\n",
              "<table border=\"1\" class=\"dataframe\">\n",
              "  <thead>\n",
              "    <tr style=\"text-align: right;\">\n",
              "      <th></th>\n",
              "      <th>BaseForm</th>\n",
              "      <th>PN</th>\n",
              "    </tr>\n",
              "  </thead>\n",
              "  <tbody>\n",
              "    <tr>\n",
              "      <th>0</th>\n",
              "      <td>絆</td>\n",
              "      <td>-0.325200</td>\n",
              "    </tr>\n",
              "    <tr>\n",
              "      <th>1</th>\n",
              "      <td>思い</td>\n",
              "      <td>-0.678658</td>\n",
              "    </tr>\n",
              "    <tr>\n",
              "      <th>2</th>\n",
              "      <td>ぬ</td>\n",
              "      <td>-0.998545</td>\n",
              "    </tr>\n",
              "    <tr>\n",
              "      <th>3</th>\n",
              "      <td>青春</td>\n",
              "      <td>0.971646</td>\n",
              "    </tr>\n",
              "    <tr>\n",
              "      <th>4</th>\n",
              "      <td>時</td>\n",
              "      <td>-0.753339</td>\n",
              "    </tr>\n",
              "    <tr>\n",
              "      <th>5</th>\n",
              "      <td>時</td>\n",
              "      <td>-0.753339</td>\n",
              "    </tr>\n",
              "    <tr>\n",
              "      <th>6</th>\n",
              "      <td>喜び</td>\n",
              "      <td>0.998861</td>\n",
              "    </tr>\n",
              "    <tr>\n",
              "      <th>7</th>\n",
              "      <td>肩</td>\n",
              "      <td>-0.908549</td>\n",
              "    </tr>\n",
              "    <tr>\n",
              "      <th>8</th>\n",
              "      <td>日</td>\n",
              "      <td>-0.903573</td>\n",
              "    </tr>\n",
              "    <tr>\n",
              "      <th>9</th>\n",
              "      <td>沈む</td>\n",
              "      <td>-0.907695</td>\n",
              "    </tr>\n",
              "    <tr>\n",
              "      <th>10</th>\n",
              "      <td>故郷</td>\n",
              "      <td>-0.508876</td>\n",
              "    </tr>\n",
              "    <tr>\n",
              "      <th>11</th>\n",
              "      <td>友</td>\n",
              "      <td>-0.511554</td>\n",
              "    </tr>\n",
              "    <tr>\n",
              "      <th>12</th>\n",
              "      <td>今</td>\n",
              "      <td>-0.851644</td>\n",
              "    </tr>\n",
              "    <tr>\n",
              "      <th>13</th>\n",
              "      <td>中</td>\n",
              "      <td>-0.979874</td>\n",
              "    </tr>\n",
              "    <tr>\n",
              "      <th>14</th>\n",
              "      <td>乾杯</td>\n",
              "      <td>0.961356</td>\n",
              "    </tr>\n",
              "    <tr>\n",
              "      <th>15</th>\n",
              "      <td>今</td>\n",
              "      <td>-0.851644</td>\n",
              "    </tr>\n",
              "    <tr>\n",
              "      <th>16</th>\n",
              "      <td>人生</td>\n",
              "      <td>-0.195237</td>\n",
              "    </tr>\n",
              "    <tr>\n",
              "      <th>17</th>\n",
              "      <td>舞台</td>\n",
              "      <td>-0.803359</td>\n",
              "    </tr>\n",
              "    <tr>\n",
              "      <th>18</th>\n",
              "      <td>遥か</td>\n",
              "      <td>-0.283165</td>\n",
              "    </tr>\n",
              "    <tr>\n",
              "      <th>19</th>\n",
              "      <td>ライト</td>\n",
              "      <td>-0.578207</td>\n",
              "    </tr>\n",
              "    <tr>\n",
              "      <th>20</th>\n",
              "      <td>中</td>\n",
              "      <td>-0.979874</td>\n",
              "    </tr>\n",
              "    <tr>\n",
              "      <th>21</th>\n",
              "      <td>今</td>\n",
              "      <td>-0.851644</td>\n",
              "    </tr>\n",
              "    <tr>\n",
              "      <th>22</th>\n",
              "      <td>目</td>\n",
              "      <td>-0.993459</td>\n",
              "    </tr>\n",
              "    <tr>\n",
              "      <th>23</th>\n",
              "      <td>喜び</td>\n",
              "      <td>0.998861</td>\n",
              "    </tr>\n",
              "    <tr>\n",
              "      <th>24</th>\n",
              "      <td>と</td>\n",
              "      <td>-0.215793</td>\n",
              "    </tr>\n",
              "    <tr>\n",
              "      <th>25</th>\n",
              "      <td>少し</td>\n",
              "      <td>-0.971390</td>\n",
              "    </tr>\n",
              "    <tr>\n",
              "      <th>26</th>\n",
              "      <td>さ</td>\n",
              "      <td>-0.935840</td>\n",
              "    </tr>\n",
              "    <tr>\n",
              "      <th>27</th>\n",
              "      <td>涙</td>\n",
              "      <td>-0.985522</td>\n",
              "    </tr>\n",
              "    <tr>\n",
              "      <th>28</th>\n",
              "      <td>言葉</td>\n",
              "      <td>-0.984295</td>\n",
              "    </tr>\n",
              "    <tr>\n",
              "      <th>29</th>\n",
              "      <td>明日</td>\n",
              "      <td>-0.600093</td>\n",
              "    </tr>\n",
              "    <tr>\n",
              "      <th>30</th>\n",
              "      <td>光</td>\n",
              "      <td>-0.897571</td>\n",
              "    </tr>\n",
              "    <tr>\n",
              "      <th>31</th>\n",
              "      <td>身体</td>\n",
              "      <td>-0.846328</td>\n",
              "    </tr>\n",
              "    <tr>\n",
              "      <th>32</th>\n",
              "      <td>風</td>\n",
              "      <td>-0.979644</td>\n",
              "    </tr>\n",
              "    <tr>\n",
              "      <th>33</th>\n",
              "      <td>雨</td>\n",
              "      <td>-0.958257</td>\n",
              "    </tr>\n",
              "    <tr>\n",
              "      <th>34</th>\n",
              "      <td>愛</td>\n",
              "      <td>0.984270</td>\n",
              "    </tr>\n",
              "    <tr>\n",
              "      <th>35</th>\n",
              "      <td>背</td>\n",
              "      <td>-0.925189</td>\n",
              "    </tr>\n",
              "    <tr>\n",
              "      <th>36</th>\n",
              "      <td>向ける</td>\n",
              "      <td>-0.774755</td>\n",
              "    </tr>\n",
              "    <tr>\n",
              "      <th>37</th>\n",
              "      <td>乾杯</td>\n",
              "      <td>0.961356</td>\n",
              "    </tr>\n",
              "    <tr>\n",
              "      <th>38</th>\n",
              "      <td>今</td>\n",
              "      <td>-0.851644</td>\n",
              "    </tr>\n",
              "    <tr>\n",
              "      <th>39</th>\n",
              "      <td>人生</td>\n",
              "      <td>-0.195237</td>\n",
              "    </tr>\n",
              "    <tr>\n",
              "      <th>40</th>\n",
              "      <td>舞台</td>\n",
              "      <td>-0.803359</td>\n",
              "    </tr>\n",
              "    <tr>\n",
              "      <th>41</th>\n",
              "      <td>遥か</td>\n",
              "      <td>-0.283165</td>\n",
              "    </tr>\n",
              "    <tr>\n",
              "      <th>42</th>\n",
              "      <td>乾杯</td>\n",
              "      <td>0.961356</td>\n",
              "    </tr>\n",
              "    <tr>\n",
              "      <th>43</th>\n",
              "      <td>今</td>\n",
              "      <td>-0.851644</td>\n",
              "    </tr>\n",
              "    <tr>\n",
              "      <th>44</th>\n",
              "      <td>人生</td>\n",
              "      <td>-0.195237</td>\n",
              "    </tr>\n",
              "    <tr>\n",
              "      <th>45</th>\n",
              "      <td>舞台</td>\n",
              "      <td>-0.803359</td>\n",
              "    </tr>\n",
              "    <tr>\n",
              "      <th>46</th>\n",
              "      <td>遥か</td>\n",
              "      <td>-0.283165</td>\n",
              "    </tr>\n",
              "  </tbody>\n",
              "</table>\n",
              "</div>\n",
              "      <button class=\"colab-df-convert\" onclick=\"convertToInteractive('df-be092e28-e84a-4b1d-b705-803ff9edc119')\"\n",
              "              title=\"Convert this dataframe to an interactive table.\"\n",
              "              style=\"display:none;\">\n",
              "        \n",
              "  <svg xmlns=\"http://www.w3.org/2000/svg\" height=\"24px\"viewBox=\"0 0 24 24\"\n",
              "       width=\"24px\">\n",
              "    <path d=\"M0 0h24v24H0V0z\" fill=\"none\"/>\n",
              "    <path d=\"M18.56 5.44l.94 2.06.94-2.06 2.06-.94-2.06-.94-.94-2.06-.94 2.06-2.06.94zm-11 1L8.5 8.5l.94-2.06 2.06-.94-2.06-.94L8.5 2.5l-.94 2.06-2.06.94zm10 10l.94 2.06.94-2.06 2.06-.94-2.06-.94-.94-2.06-.94 2.06-2.06.94z\"/><path d=\"M17.41 7.96l-1.37-1.37c-.4-.4-.92-.59-1.43-.59-.52 0-1.04.2-1.43.59L10.3 9.45l-7.72 7.72c-.78.78-.78 2.05 0 2.83L4 21.41c.39.39.9.59 1.41.59.51 0 1.02-.2 1.41-.59l7.78-7.78 2.81-2.81c.8-.78.8-2.07 0-2.86zM5.41 20L4 18.59l7.72-7.72 1.47 1.35L5.41 20z\"/>\n",
              "  </svg>\n",
              "      </button>\n",
              "      \n",
              "  <style>\n",
              "    .colab-df-container {\n",
              "      display:flex;\n",
              "      flex-wrap:wrap;\n",
              "      gap: 12px;\n",
              "    }\n",
              "\n",
              "    .colab-df-convert {\n",
              "      background-color: #E8F0FE;\n",
              "      border: none;\n",
              "      border-radius: 50%;\n",
              "      cursor: pointer;\n",
              "      display: none;\n",
              "      fill: #1967D2;\n",
              "      height: 32px;\n",
              "      padding: 0 0 0 0;\n",
              "      width: 32px;\n",
              "    }\n",
              "\n",
              "    .colab-df-convert:hover {\n",
              "      background-color: #E2EBFA;\n",
              "      box-shadow: 0px 1px 2px rgba(60, 64, 67, 0.3), 0px 1px 3px 1px rgba(60, 64, 67, 0.15);\n",
              "      fill: #174EA6;\n",
              "    }\n",
              "\n",
              "    [theme=dark] .colab-df-convert {\n",
              "      background-color: #3B4455;\n",
              "      fill: #D2E3FC;\n",
              "    }\n",
              "\n",
              "    [theme=dark] .colab-df-convert:hover {\n",
              "      background-color: #434B5C;\n",
              "      box-shadow: 0px 1px 3px 1px rgba(0, 0, 0, 0.15);\n",
              "      filter: drop-shadow(0px 1px 2px rgba(0, 0, 0, 0.3));\n",
              "      fill: #FFFFFF;\n",
              "    }\n",
              "  </style>\n",
              "\n",
              "      <script>\n",
              "        const buttonEl =\n",
              "          document.querySelector('#df-be092e28-e84a-4b1d-b705-803ff9edc119 button.colab-df-convert');\n",
              "        buttonEl.style.display =\n",
              "          google.colab.kernel.accessAllowed ? 'block' : 'none';\n",
              "\n",
              "        async function convertToInteractive(key) {\n",
              "          const element = document.querySelector('#df-be092e28-e84a-4b1d-b705-803ff9edc119');\n",
              "          const dataTable =\n",
              "            await google.colab.kernel.invokeFunction('convertToInteractive',\n",
              "                                                     [key], {});\n",
              "          if (!dataTable) return;\n",
              "\n",
              "          const docLinkHtml = 'Like what you see? Visit the ' +\n",
              "            '<a target=\"_blank\" href=https://colab.research.google.com/notebooks/data_table.ipynb>data table notebook</a>'\n",
              "            + ' to learn more about interactive tables.';\n",
              "          element.innerHTML = '';\n",
              "          dataTable['output_type'] = 'display_data';\n",
              "          await google.colab.output.renderOutput(dataTable, element);\n",
              "          const docLink = document.createElement('div');\n",
              "          docLink.innerHTML = docLinkHtml;\n",
              "          element.appendChild(docLink);\n",
              "        }\n",
              "      </script>\n",
              "    </div>\n",
              "  </div>\n",
              "  "
            ]
          },
          "metadata": {},
          "execution_count": 111
        }
      ]
    },
    {
      "cell_type": "code",
      "source": [
        "Result_PN_Nagabuchi[\"PN\"].describe()"
      ],
      "metadata": {
        "colab": {
          "base_uri": "https://localhost:8080/"
        },
        "id": "3ZyznmMurEgi",
        "outputId": "df5fa20a-7b18-4600-cbb0-4ec0562e279a"
      },
      "execution_count": null,
      "outputs": [
        {
          "output_type": "execute_result",
          "data": {
            "text/plain": [
              "count    47.000000\n",
              "mean     -0.470664\n",
              "std       0.661612\n",
              "min      -0.998545\n",
              "25%      -0.908122\n",
              "50%      -0.803359\n",
              "75%      -0.283165\n",
              "max       0.998861\n",
              "Name: PN, dtype: float64"
            ]
          },
          "metadata": {},
          "execution_count": 110
        }
      ]
    },
    {
      "cell_type": "markdown",
      "source": [
        "結果は<font color=\"red\">mean     -0.470664</font>でした。\n",
        "\n",
        "思ってたよりもずっとネガティブでした。　文脈や雰囲気からしてかなりポジティブな曲なのですが。当然歌詞も。\n",
        "\n",
        "なんででしょうか・・・？\n",
        "\n",
        "個人的にはdfの中に格納されているポジティブな可視が軒並みネガティブ判定されている気がする。\n",
        "サビの｢今、人生、舞台、遥か｣これが全部マイナス判定ですか・この辞書は。"
      ],
      "metadata": {
        "id": "OXU6ZidvslQ5"
      }
    },
    {
      "cell_type": "markdown",
      "source": [
        "#### 木村カエラの｢Butterfly｣\n"
      ],
      "metadata": {
        "id": "x6L-fT25tij-"
      }
    },
    {
      "cell_type": "markdown",
      "source": [
        "結婚式の定番ソングです。これならポジティブ判定になるでしょう。\n",
        "私これ好きじゃないですけどね。コメント欄覗くとえずきますよ。"
      ],
      "metadata": {
        "id": "HIo-R26tt2B4"
      }
    },
    {
      "cell_type": "code",
      "source": [
        "Kaera = '''\n",
        "    Butterfly　今日は今までの　どんな時より　素晴らしい\n",
        "    赤い糸でむすばれてく　光の輪のなかへ\n",
        "\n",
        "    Butterfly　今日は今までの　どんな君より　美しい\n",
        "    白い羽ではばたいてく　幸せと共に\n",
        "\n",
        "    思い出してるよ　君と出会ったころ\n",
        "    何度もくり返した季節は\n",
        "    二人を変えてきたね\n",
        "\n",
        "    君は今誓い　愛する人の側で\n",
        "    幸せだよと　微笑んでる\n",
        "    確かなその思いで　鐘が響くよ\n",
        "\n",
        "    太陽は沈み　いたずらに星は昇る\n",
        "    夜は眠り　朝を待つ\n",
        "\n",
        "    Butterfly　今日は今までの　どんな時より　素晴らしい\n",
        "    赤い糸でむすばれてく　光の輪のなかへ\n",
        "\n",
        "    優しさにあふれた　君がとても大好き\n",
        "    悲しみあれば　共に泣いて　喜びがあるなら　共に笑うよ\n",
        "\n",
        "    たったひとつだけ　暖かい愛に包まれ\n",
        "    夢の全ては　いつまでも　つづくよ\n",
        "\n",
        "    Butterfly　今日は今までの　どんな君より　美しい\n",
        "    白い羽ではばたいてく　幸せと共に\n",
        "\n",
        "    Butterfly　今日は今までの　どんな時より　素晴らしい\n",
        "    赤い糸でむすばれてく　光の輪のなかへ\n",
        "\n",
        "    運命の花を見つけた　チョウは青い空を舞う\n",
        "    '''"
      ],
      "metadata": {
        "id": "uR92XlC8uXqf"
      },
      "execution_count": null,
      "outputs": []
    },
    {
      "cell_type": "code",
      "source": [
        "Kaera_wachi = get_diclist2(Kaera)\n",
        "print(Kaera_wachi)\n",
        "\n",
        "# なんかよく分からない[\\u3000]とか入ってますけど,not foundで弾かれると思うので無視しても良いでしょう。"
      ],
      "metadata": {
        "colab": {
          "base_uri": "https://localhost:8080/"
        },
        "id": "vj-httvAu7CH",
        "outputId": "5cdc5b99-73e1-4344-f781-59194e1f1c86"
      },
      "execution_count": null,
      "outputs": [
        {
          "output_type": "stream",
          "name": "stdout",
          "text": [
            "[{'BaseForm': 'Butterfly'}, {'BaseForm': '\\u3000'}, {'BaseForm': '今日'}, {'BaseForm': 'は'}, {'BaseForm': '今'}, {'BaseForm': 'まで'}, {'BaseForm': 'の'}, {'BaseForm': '\\u3000'}, {'BaseForm': 'どんな'}, {'BaseForm': '時'}, {'BaseForm': 'より'}, {'BaseForm': '\\u3000'}, {'BaseForm': '素晴らしい'}, {'BaseForm': '赤い'}, {'BaseForm': '糸'}, {'BaseForm': 'で'}, {'BaseForm': 'むすば'}, {'BaseForm': 'れ'}, {'BaseForm': 'て'}, {'BaseForm': 'く'}, {'BaseForm': '\\u3000'}, {'BaseForm': '光'}, {'BaseForm': 'の'}, {'BaseForm': '輪'}, {'BaseForm': 'の'}, {'BaseForm': 'なか'}, {'BaseForm': 'へ'}, {'BaseForm': 'Butterfly'}, {'BaseForm': '\\u3000'}, {'BaseForm': '今日'}, {'BaseForm': 'は'}, {'BaseForm': '今'}, {'BaseForm': 'まで'}, {'BaseForm': 'の'}, {'BaseForm': '\\u3000'}, {'BaseForm': 'どんな'}, {'BaseForm': '君'}, {'BaseForm': 'より'}, {'BaseForm': '\\u3000'}, {'BaseForm': '美しい'}, {'BaseForm': '白い'}, {'BaseForm': '羽'}, {'BaseForm': 'で'}, {'BaseForm': 'はばたい'}, {'BaseForm': 'て'}, {'BaseForm': 'く'}, {'BaseForm': '\\u3000'}, {'BaseForm': '幸せ'}, {'BaseForm': 'と共に'}, {'BaseForm': '思い出し'}, {'BaseForm': 'てる'}, {'BaseForm': 'よ'}, {'BaseForm': '\\u3000'}, {'BaseForm': '君'}, {'BaseForm': 'と'}, {'BaseForm': '出会っ'}, {'BaseForm': 'た'}, {'BaseForm': 'ころ'}, {'BaseForm': '何'}, {'BaseForm': '度'}, {'BaseForm': 'も'}, {'BaseForm': 'くり返し'}, {'BaseForm': 'た'}, {'BaseForm': '季節'}, {'BaseForm': 'は'}, {'BaseForm': '二'}, {'BaseForm': '人'}, {'BaseForm': 'を'}, {'BaseForm': '変え'}, {'BaseForm': 'て'}, {'BaseForm': 'き'}, {'BaseForm': 'た'}, {'BaseForm': 'ね'}, {'BaseForm': '君'}, {'BaseForm': 'は'}, {'BaseForm': '今'}, {'BaseForm': '誓い'}, {'BaseForm': '\\u3000'}, {'BaseForm': '愛する'}, {'BaseForm': '人'}, {'BaseForm': 'の'}, {'BaseForm': '側'}, {'BaseForm': 'で'}, {'BaseForm': '幸せ'}, {'BaseForm': 'だ'}, {'BaseForm': 'よ'}, {'BaseForm': 'と'}, {'BaseForm': '\\u3000'}, {'BaseForm': '微笑ん'}, {'BaseForm': 'でる'}, {'BaseForm': '確か'}, {'BaseForm': 'な'}, {'BaseForm': 'その'}, {'BaseForm': '思い'}, {'BaseForm': 'で'}, {'BaseForm': '\\u3000'}, {'BaseForm': '鐘'}, {'BaseForm': 'が'}, {'BaseForm': '響く'}, {'BaseForm': 'よ'}, {'BaseForm': '太陽'}, {'BaseForm': 'は'}, {'BaseForm': '沈み'}, {'BaseForm': '\\u3000'}, {'BaseForm': 'いたずらに'}, {'BaseForm': '星'}, {'BaseForm': 'は'}, {'BaseForm': '昇る'}, {'BaseForm': '夜'}, {'BaseForm': 'は'}, {'BaseForm': '眠り'}, {'BaseForm': '\\u3000'}, {'BaseForm': '朝'}, {'BaseForm': 'を'}, {'BaseForm': '待つ'}, {'BaseForm': 'Butterfly'}, {'BaseForm': '\\u3000'}, {'BaseForm': '今日'}, {'BaseForm': 'は'}, {'BaseForm': '今'}, {'BaseForm': 'まで'}, {'BaseForm': 'の'}, {'BaseForm': '\\u3000'}, {'BaseForm': 'どんな'}, {'BaseForm': '時'}, {'BaseForm': 'より'}, {'BaseForm': '\\u3000'}, {'BaseForm': '素晴らしい'}, {'BaseForm': '赤い'}, {'BaseForm': '糸'}, {'BaseForm': 'で'}, {'BaseForm': 'むすば'}, {'BaseForm': 'れ'}, {'BaseForm': 'て'}, {'BaseForm': 'く'}, {'BaseForm': '\\u3000'}, {'BaseForm': '光'}, {'BaseForm': 'の'}, {'BaseForm': '輪'}, {'BaseForm': 'の'}, {'BaseForm': 'なか'}, {'BaseForm': 'へ'}, {'BaseForm': '優し'}, {'BaseForm': 'さ'}, {'BaseForm': 'に'}, {'BaseForm': 'あふれ'}, {'BaseForm': 'た'}, {'BaseForm': '\\u3000'}, {'BaseForm': '君'}, {'BaseForm': 'が'}, {'BaseForm': 'とても'}, {'BaseForm': '大好き'}, {'BaseForm': '悲しみ'}, {'BaseForm': 'あれ'}, {'BaseForm': 'ば'}, {'BaseForm': '\\u3000'}, {'BaseForm': '共に'}, {'BaseForm': '泣い'}, {'BaseForm': 'て'}, {'BaseForm': '\\u3000'}, {'BaseForm': '喜び'}, {'BaseForm': 'が'}, {'BaseForm': 'ある'}, {'BaseForm': 'なら'}, {'BaseForm': '\\u3000'}, {'BaseForm': '共に'}, {'BaseForm': '笑う'}, {'BaseForm': 'よ'}, {'BaseForm': 'たった'}, {'BaseForm': 'ひとつ'}, {'BaseForm': 'だけ'}, {'BaseForm': '\\u3000'}, {'BaseForm': '暖かい'}, {'BaseForm': '愛'}, {'BaseForm': 'に'}, {'BaseForm': '包ま'}, {'BaseForm': 'れ'}, {'BaseForm': '夢'}, {'BaseForm': 'の'}, {'BaseForm': '全て'}, {'BaseForm': 'は'}, {'BaseForm': '\\u3000'}, {'BaseForm': 'いつ'}, {'BaseForm': 'まで'}, {'BaseForm': 'も'}, {'BaseForm': '\\u3000'}, {'BaseForm': 'つづく'}, {'BaseForm': 'よ'}, {'BaseForm': 'Butterfly'}, {'BaseForm': '\\u3000'}, {'BaseForm': '今日'}, {'BaseForm': 'は'}, {'BaseForm': '今'}, {'BaseForm': 'まで'}, {'BaseForm': 'の'}, {'BaseForm': '\\u3000'}, {'BaseForm': 'どんな'}, {'BaseForm': '君'}, {'BaseForm': 'より'}, {'BaseForm': '\\u3000'}, {'BaseForm': '美しい'}, {'BaseForm': '白い'}, {'BaseForm': '羽'}, {'BaseForm': 'で'}, {'BaseForm': 'はばたい'}, {'BaseForm': 'て'}, {'BaseForm': 'く'}, {'BaseForm': '\\u3000'}, {'BaseForm': '幸せ'}, {'BaseForm': 'と共に'}, {'BaseForm': 'Butterfly'}, {'BaseForm': '\\u3000'}, {'BaseForm': '今日'}, {'BaseForm': 'は'}, {'BaseForm': '今'}, {'BaseForm': 'まで'}, {'BaseForm': 'の'}, {'BaseForm': '\\u3000'}, {'BaseForm': 'どんな'}, {'BaseForm': '時'}, {'BaseForm': 'より'}, {'BaseForm': '\\u3000'}, {'BaseForm': '素晴らしい'}, {'BaseForm': '赤い'}, {'BaseForm': '糸'}, {'BaseForm': 'で'}, {'BaseForm': 'むすば'}, {'BaseForm': 'れ'}, {'BaseForm': 'て'}, {'BaseForm': 'く'}, {'BaseForm': '\\u3000'}, {'BaseForm': '光'}, {'BaseForm': 'の'}, {'BaseForm': '輪'}, {'BaseForm': 'の'}, {'BaseForm': 'なか'}, {'BaseForm': 'へ'}, {'BaseForm': '運命'}, {'BaseForm': 'の'}, {'BaseForm': '花'}, {'BaseForm': 'を'}, {'BaseForm': '見つけ'}, {'BaseForm': 'た'}, {'BaseForm': '\\u3000'}, {'BaseForm': 'チョウ'}, {'BaseForm': 'は'}, {'BaseForm': '青い'}, {'BaseForm': '空'}, {'BaseForm': 'を'}, {'BaseForm': '舞う'}, {'BaseForm': '\\n'}]\n"
          ]
        }
      ]
    },
    {
      "cell_type": "code",
      "source": [
        "Result_PN_Kaera = add_pnvalue(Kaera_wachi) # 独自関数に噛ませた結果を確認してみましょう。\n",
        "Result_PN_Kaera\n",
        "\n",
        "# あれっ？なんか物凄くマイナスが目立つのですが大丈夫でしょうか...？"
      ],
      "metadata": {
        "colab": {
          "base_uri": "https://localhost:8080/",
          "height": 423
        },
        "id": "ZyAdiflIvB6Y",
        "outputId": "938c93b7-478c-48bb-b277-8c653f62bb24"
      },
      "execution_count": null,
      "outputs": [
        {
          "output_type": "execute_result",
          "data": {
            "text/plain": [
              "   BaseForm        PN\n",
              "0        今日  0.172375\n",
              "1         今 -0.851644\n",
              "2         時 -0.753339\n",
              "3     素晴らしい  0.998617\n",
              "4        赤い -0.926588\n",
              "..      ...       ...\n",
              "62        輪 -0.912371\n",
              "63       運命 -0.562723\n",
              "64       青い -0.724730\n",
              "65        空 -0.900915\n",
              "66       舞う -0.803595\n",
              "\n",
              "[67 rows x 2 columns]"
            ],
            "text/html": [
              "\n",
              "  <div id=\"df-0ae9a4ac-43a6-4f84-bd6b-7723a4e72071\">\n",
              "    <div class=\"colab-df-container\">\n",
              "      <div>\n",
              "<style scoped>\n",
              "    .dataframe tbody tr th:only-of-type {\n",
              "        vertical-align: middle;\n",
              "    }\n",
              "\n",
              "    .dataframe tbody tr th {\n",
              "        vertical-align: top;\n",
              "    }\n",
              "\n",
              "    .dataframe thead th {\n",
              "        text-align: right;\n",
              "    }\n",
              "</style>\n",
              "<table border=\"1\" class=\"dataframe\">\n",
              "  <thead>\n",
              "    <tr style=\"text-align: right;\">\n",
              "      <th></th>\n",
              "      <th>BaseForm</th>\n",
              "      <th>PN</th>\n",
              "    </tr>\n",
              "  </thead>\n",
              "  <tbody>\n",
              "    <tr>\n",
              "      <th>0</th>\n",
              "      <td>今日</td>\n",
              "      <td>0.172375</td>\n",
              "    </tr>\n",
              "    <tr>\n",
              "      <th>1</th>\n",
              "      <td>今</td>\n",
              "      <td>-0.851644</td>\n",
              "    </tr>\n",
              "    <tr>\n",
              "      <th>2</th>\n",
              "      <td>時</td>\n",
              "      <td>-0.753339</td>\n",
              "    </tr>\n",
              "    <tr>\n",
              "      <th>3</th>\n",
              "      <td>素晴らしい</td>\n",
              "      <td>0.998617</td>\n",
              "    </tr>\n",
              "    <tr>\n",
              "      <th>4</th>\n",
              "      <td>赤い</td>\n",
              "      <td>-0.926588</td>\n",
              "    </tr>\n",
              "    <tr>\n",
              "      <th>...</th>\n",
              "      <td>...</td>\n",
              "      <td>...</td>\n",
              "    </tr>\n",
              "    <tr>\n",
              "      <th>62</th>\n",
              "      <td>輪</td>\n",
              "      <td>-0.912371</td>\n",
              "    </tr>\n",
              "    <tr>\n",
              "      <th>63</th>\n",
              "      <td>運命</td>\n",
              "      <td>-0.562723</td>\n",
              "    </tr>\n",
              "    <tr>\n",
              "      <th>64</th>\n",
              "      <td>青い</td>\n",
              "      <td>-0.724730</td>\n",
              "    </tr>\n",
              "    <tr>\n",
              "      <th>65</th>\n",
              "      <td>空</td>\n",
              "      <td>-0.900915</td>\n",
              "    </tr>\n",
              "    <tr>\n",
              "      <th>66</th>\n",
              "      <td>舞う</td>\n",
              "      <td>-0.803595</td>\n",
              "    </tr>\n",
              "  </tbody>\n",
              "</table>\n",
              "<p>67 rows × 2 columns</p>\n",
              "</div>\n",
              "      <button class=\"colab-df-convert\" onclick=\"convertToInteractive('df-0ae9a4ac-43a6-4f84-bd6b-7723a4e72071')\"\n",
              "              title=\"Convert this dataframe to an interactive table.\"\n",
              "              style=\"display:none;\">\n",
              "        \n",
              "  <svg xmlns=\"http://www.w3.org/2000/svg\" height=\"24px\"viewBox=\"0 0 24 24\"\n",
              "       width=\"24px\">\n",
              "    <path d=\"M0 0h24v24H0V0z\" fill=\"none\"/>\n",
              "    <path d=\"M18.56 5.44l.94 2.06.94-2.06 2.06-.94-2.06-.94-.94-2.06-.94 2.06-2.06.94zm-11 1L8.5 8.5l.94-2.06 2.06-.94-2.06-.94L8.5 2.5l-.94 2.06-2.06.94zm10 10l.94 2.06.94-2.06 2.06-.94-2.06-.94-.94-2.06-.94 2.06-2.06.94z\"/><path d=\"M17.41 7.96l-1.37-1.37c-.4-.4-.92-.59-1.43-.59-.52 0-1.04.2-1.43.59L10.3 9.45l-7.72 7.72c-.78.78-.78 2.05 0 2.83L4 21.41c.39.39.9.59 1.41.59.51 0 1.02-.2 1.41-.59l7.78-7.78 2.81-2.81c.8-.78.8-2.07 0-2.86zM5.41 20L4 18.59l7.72-7.72 1.47 1.35L5.41 20z\"/>\n",
              "  </svg>\n",
              "      </button>\n",
              "      \n",
              "  <style>\n",
              "    .colab-df-container {\n",
              "      display:flex;\n",
              "      flex-wrap:wrap;\n",
              "      gap: 12px;\n",
              "    }\n",
              "\n",
              "    .colab-df-convert {\n",
              "      background-color: #E8F0FE;\n",
              "      border: none;\n",
              "      border-radius: 50%;\n",
              "      cursor: pointer;\n",
              "      display: none;\n",
              "      fill: #1967D2;\n",
              "      height: 32px;\n",
              "      padding: 0 0 0 0;\n",
              "      width: 32px;\n",
              "    }\n",
              "\n",
              "    .colab-df-convert:hover {\n",
              "      background-color: #E2EBFA;\n",
              "      box-shadow: 0px 1px 2px rgba(60, 64, 67, 0.3), 0px 1px 3px 1px rgba(60, 64, 67, 0.15);\n",
              "      fill: #174EA6;\n",
              "    }\n",
              "\n",
              "    [theme=dark] .colab-df-convert {\n",
              "      background-color: #3B4455;\n",
              "      fill: #D2E3FC;\n",
              "    }\n",
              "\n",
              "    [theme=dark] .colab-df-convert:hover {\n",
              "      background-color: #434B5C;\n",
              "      box-shadow: 0px 1px 3px 1px rgba(0, 0, 0, 0.15);\n",
              "      filter: drop-shadow(0px 1px 2px rgba(0, 0, 0, 0.3));\n",
              "      fill: #FFFFFF;\n",
              "    }\n",
              "  </style>\n",
              "\n",
              "      <script>\n",
              "        const buttonEl =\n",
              "          document.querySelector('#df-0ae9a4ac-43a6-4f84-bd6b-7723a4e72071 button.colab-df-convert');\n",
              "        buttonEl.style.display =\n",
              "          google.colab.kernel.accessAllowed ? 'block' : 'none';\n",
              "\n",
              "        async function convertToInteractive(key) {\n",
              "          const element = document.querySelector('#df-0ae9a4ac-43a6-4f84-bd6b-7723a4e72071');\n",
              "          const dataTable =\n",
              "            await google.colab.kernel.invokeFunction('convertToInteractive',\n",
              "                                                     [key], {});\n",
              "          if (!dataTable) return;\n",
              "\n",
              "          const docLinkHtml = 'Like what you see? Visit the ' +\n",
              "            '<a target=\"_blank\" href=https://colab.research.google.com/notebooks/data_table.ipynb>data table notebook</a>'\n",
              "            + ' to learn more about interactive tables.';\n",
              "          element.innerHTML = '';\n",
              "          dataTable['output_type'] = 'display_data';\n",
              "          await google.colab.output.renderOutput(dataTable, element);\n",
              "          const docLink = document.createElement('div');\n",
              "          docLink.innerHTML = docLinkHtml;\n",
              "          element.appendChild(docLink);\n",
              "        }\n",
              "      </script>\n",
              "    </div>\n",
              "  </div>\n",
              "  "
            ]
          },
          "metadata": {},
          "execution_count": 116
        }
      ]
    },
    {
      "cell_type": "code",
      "source": [
        "Result_PN_Kaera[\"PN\"].describe()"
      ],
      "metadata": {
        "colab": {
          "base_uri": "https://localhost:8080/"
        },
        "id": "MJpxljxDvx9p",
        "outputId": "7fc72d29-85a4-4cfa-93ff-c06e01586ce3"
      },
      "execution_count": null,
      "outputs": [
        {
          "output_type": "execute_result",
          "data": {
            "text/plain": [
              "count    67.000000\n",
              "mean     -0.482106\n",
              "std       0.631255\n",
              "min      -0.999241\n",
              "25%      -0.897571\n",
              "50%      -0.790421\n",
              "75%      -0.269392\n",
              "max       0.998861\n",
              "Name: PN, dtype: float64"
            ]
          },
          "metadata": {},
          "execution_count": 117
        }
      ]
    },
    {
      "cell_type": "markdown",
      "source": [
        "結果物凄くネガティブになってしまいました。なんで...。"
      ],
      "metadata": {
        "id": "L6Rcp_w5v6Xy"
      }
    },
    {
      "cell_type": "markdown",
      "source": [
        "#### オフコースの「さよなら」"
      ],
      "metadata": {
        "id": "ji8hNs9gxLyI"
      }
    },
    {
      "cell_type": "markdown",
      "source": [
        "どんなポジティブな曲もネガティブ判定されてしまうので今度は思いきりネガティブな曲を入れたいと思います。\n",
        "\n",
        "本当はradioheadをぶち込みたいのですが、今回も邦楽で…"
      ],
      "metadata": {
        "id": "i7ZtD8OgxRaA"
      }
    },
    {
      "cell_type": "code",
      "source": [
        "Sayonara = '''\n",
        "    もう 終わりだね 君が小さく見える\n",
        "    僕は思わず君を 抱きしめたくなる\n",
        "    「私は泣かないから このままひとりにして」\n",
        "    君のほほを涙が 流れては落ちる\n",
        "    「僕らは自由だね」いつかそう話したね\n",
        "    まるで今日のことなんて 思いもしないで\n",
        "    さよなら さよなら さよなら\n",
        "    もうすぐ外は白い冬\n",
        "    愛したのはたしかに君だけ\n",
        "    そのままの君だけ\n",
        "\n",
        "    愛は哀しいね 僕のかわりに君が\n",
        "    今日は誰かの胸に 眠るかも知れない\n",
        "    僕がてれるから 誰も見ていない道を\n",
        "    寄りそい歩ける寒い日が 君は好きだった\n",
        "    さよなら さよなら さよなら\n",
        "    もうすぐ外は白い冬\n",
        "    愛したのはたしかに君だけ\n",
        "    そのままの君だけ\n",
        "\n",
        "    さよなら さよなら さよなら\n",
        "    もうすぐ外は白い冬\n",
        "    愛したのはたしかに君だけ\n",
        "    そのままの君だけ\n",
        "\n",
        "    さよなら さよなら さよなら\n",
        "    もうすぐ外は白い冬\n",
        "    愛したのはたしかに君だけ\n",
        "    そのままの君だけ\n",
        "\n",
        "    外は今日も雨 やがて雪になって\n",
        "    僕らの心のなかに 降り積るだろう\n",
        "    降り積るだろう\n",
        "'''"
      ],
      "metadata": {
        "id": "BtovpDytxsaH"
      },
      "execution_count": null,
      "outputs": []
    },
    {
      "cell_type": "code",
      "source": [
        "Sayonara_wachi = get_diclist2(Sayonara)\n",
        "print(Sayonara_wachi)\n",
        "\n",
        "# なんかよく分からない[\\u3000]とか入ってますけど,not foundで弾かれると思うので無視しても良いでしょう。"
      ],
      "metadata": {
        "colab": {
          "base_uri": "https://localhost:8080/"
        },
        "id": "3ZDzraHsyKgh",
        "outputId": "7b7363cd-fee1-4306-adaa-304d345a723d"
      },
      "execution_count": null,
      "outputs": [
        {
          "output_type": "stream",
          "name": "stdout",
          "text": [
            "[{'BaseForm': 'もう'}, {'BaseForm': '終わり'}, {'BaseForm': 'だ'}, {'BaseForm': 'ね'}, {'BaseForm': '君'}, {'BaseForm': 'が'}, {'BaseForm': '小さく'}, {'BaseForm': '見える'}, {'BaseForm': '僕'}, {'BaseForm': 'は'}, {'BaseForm': '思わず'}, {'BaseForm': '君'}, {'BaseForm': 'を'}, {'BaseForm': '抱きしめ'}, {'BaseForm': 'たく'}, {'BaseForm': 'なる'}, {'BaseForm': '「'}, {'BaseForm': '私'}, {'BaseForm': 'は'}, {'BaseForm': '泣か'}, {'BaseForm': 'ない'}, {'BaseForm': 'から'}, {'BaseForm': 'この'}, {'BaseForm': 'まま'}, {'BaseForm': 'ひとり'}, {'BaseForm': 'に'}, {'BaseForm': 'し'}, {'BaseForm': 'て'}, {'BaseForm': '」'}, {'BaseForm': '君'}, {'BaseForm': 'の'}, {'BaseForm': 'ほほ'}, {'BaseForm': 'を'}, {'BaseForm': '涙'}, {'BaseForm': 'が'}, {'BaseForm': '流れ'}, {'BaseForm': 'て'}, {'BaseForm': 'は'}, {'BaseForm': '落ちる'}, {'BaseForm': '「'}, {'BaseForm': '僕ら'}, {'BaseForm': 'は'}, {'BaseForm': '自由'}, {'BaseForm': 'だ'}, {'BaseForm': 'ね'}, {'BaseForm': '」'}, {'BaseForm': 'いつか'}, {'BaseForm': 'そう'}, {'BaseForm': '話し'}, {'BaseForm': 'た'}, {'BaseForm': 'ね'}, {'BaseForm': 'まるで'}, {'BaseForm': '今日'}, {'BaseForm': 'の'}, {'BaseForm': 'こと'}, {'BaseForm': 'なんて'}, {'BaseForm': '思い'}, {'BaseForm': 'も'}, {'BaseForm': 'し'}, {'BaseForm': 'ない'}, {'BaseForm': 'で'}, {'BaseForm': 'さよなら'}, {'BaseForm': 'さよなら'}, {'BaseForm': 'さよなら'}, {'BaseForm': 'もうすぐ'}, {'BaseForm': '外'}, {'BaseForm': 'は'}, {'BaseForm': '白い'}, {'BaseForm': '冬'}, {'BaseForm': '愛し'}, {'BaseForm': 'た'}, {'BaseForm': 'の'}, {'BaseForm': 'は'}, {'BaseForm': 'たしかに'}, {'BaseForm': '君'}, {'BaseForm': 'だけ'}, {'BaseForm': 'そのまま'}, {'BaseForm': 'の'}, {'BaseForm': '君'}, {'BaseForm': 'だけ'}, {'BaseForm': '愛'}, {'BaseForm': 'は'}, {'BaseForm': '哀しい'}, {'BaseForm': 'ね'}, {'BaseForm': '僕'}, {'BaseForm': 'の'}, {'BaseForm': 'かわり'}, {'BaseForm': 'に'}, {'BaseForm': '君'}, {'BaseForm': 'が'}, {'BaseForm': '今日'}, {'BaseForm': 'は'}, {'BaseForm': '誰'}, {'BaseForm': 'か'}, {'BaseForm': 'の'}, {'BaseForm': '胸'}, {'BaseForm': 'に'}, {'BaseForm': '眠る'}, {'BaseForm': 'かも'}, {'BaseForm': '知れ'}, {'BaseForm': 'ない'}, {'BaseForm': '僕'}, {'BaseForm': 'が'}, {'BaseForm': 'てれる'}, {'BaseForm': 'から'}, {'BaseForm': '誰'}, {'BaseForm': 'も'}, {'BaseForm': '見'}, {'BaseForm': 'て'}, {'BaseForm': 'い'}, {'BaseForm': 'ない'}, {'BaseForm': '道'}, {'BaseForm': 'を'}, {'BaseForm': '寄り'}, {'BaseForm': 'そい'}, {'BaseForm': '歩ける'}, {'BaseForm': '寒い'}, {'BaseForm': '日'}, {'BaseForm': 'が'}, {'BaseForm': '君'}, {'BaseForm': 'は'}, {'BaseForm': '好き'}, {'BaseForm': 'だっ'}, {'BaseForm': 'た'}, {'BaseForm': 'さよなら'}, {'BaseForm': 'さよなら'}, {'BaseForm': 'さよなら'}, {'BaseForm': 'もうすぐ'}, {'BaseForm': '外'}, {'BaseForm': 'は'}, {'BaseForm': '白い'}, {'BaseForm': '冬'}, {'BaseForm': '愛し'}, {'BaseForm': 'た'}, {'BaseForm': 'の'}, {'BaseForm': 'は'}, {'BaseForm': 'たしかに'}, {'BaseForm': '君'}, {'BaseForm': 'だけ'}, {'BaseForm': 'そのまま'}, {'BaseForm': 'の'}, {'BaseForm': '君'}, {'BaseForm': 'だけ'}, {'BaseForm': 'さよなら'}, {'BaseForm': 'さよなら'}, {'BaseForm': 'さよなら'}, {'BaseForm': 'もうすぐ'}, {'BaseForm': '外'}, {'BaseForm': 'は'}, {'BaseForm': '白い'}, {'BaseForm': '冬'}, {'BaseForm': '愛し'}, {'BaseForm': 'た'}, {'BaseForm': 'の'}, {'BaseForm': 'は'}, {'BaseForm': 'たしかに'}, {'BaseForm': '君'}, {'BaseForm': 'だけ'}, {'BaseForm': 'そのまま'}, {'BaseForm': 'の'}, {'BaseForm': '君'}, {'BaseForm': 'だけ'}, {'BaseForm': 'さよなら'}, {'BaseForm': 'さよなら'}, {'BaseForm': 'さよなら'}, {'BaseForm': 'もうすぐ'}, {'BaseForm': '外'}, {'BaseForm': 'は'}, {'BaseForm': '白い'}, {'BaseForm': '冬'}, {'BaseForm': '愛し'}, {'BaseForm': 'た'}, {'BaseForm': 'の'}, {'BaseForm': 'は'}, {'BaseForm': 'たしかに'}, {'BaseForm': '君'}, {'BaseForm': 'だけ'}, {'BaseForm': 'そのまま'}, {'BaseForm': 'の'}, {'BaseForm': '君'}, {'BaseForm': 'だけ'}, {'BaseForm': '外'}, {'BaseForm': 'は'}, {'BaseForm': '今日'}, {'BaseForm': 'も'}, {'BaseForm': '雨'}, {'BaseForm': 'やがて'}, {'BaseForm': '雪'}, {'BaseForm': 'に'}, {'BaseForm': 'なっ'}, {'BaseForm': 'て'}, {'BaseForm': '僕ら'}, {'BaseForm': 'の'}, {'BaseForm': '心'}, {'BaseForm': 'の'}, {'BaseForm': 'なか'}, {'BaseForm': 'に'}, {'BaseForm': '降り積る'}, {'BaseForm': 'だろ'}, {'BaseForm': 'う'}, {'BaseForm': '降り積る'}, {'BaseForm': 'だろ'}, {'BaseForm': 'う'}, {'BaseForm': '\\n'}]\n"
          ]
        }
      ]
    },
    {
      "cell_type": "code",
      "source": [
        "Result_PN_Sayonara = add_pnvalue(Sayonara_wachi)\n",
        "Result_PN_Sayonara\n",
        "# ほぼほぼマイナスですね。"
      ],
      "metadata": {
        "id": "VajWNh2ByUNj"
      },
      "execution_count": null,
      "outputs": []
    },
    {
      "cell_type": "code",
      "source": [
        "Result_PN_Sayonara[\"PN\"].describe()"
      ],
      "metadata": {
        "colab": {
          "base_uri": "https://localhost:8080/"
        },
        "id": "8YTnu66Lyh3Z",
        "outputId": "258dbc1a-8ec2-48e2-a6cf-62a1a808448c"
      },
      "execution_count": null,
      "outputs": [
        {
          "output_type": "execute_result",
          "data": {
            "text/plain": [
              "count    42.000000\n",
              "mean     -0.688120\n",
              "std       0.503518\n",
              "min      -0.999997\n",
              "25%      -0.983579\n",
              "50%      -0.911561\n",
              "75%      -0.657423\n",
              "max       0.984270\n",
              "Name: PN, dtype: float64"
            ]
          },
          "metadata": {},
          "execution_count": 122
        }
      ]
    },
    {
      "cell_type": "markdown",
      "source": [
        "これは良そう通り思いっきりネガティブですね。"
      ],
      "metadata": {
        "id": "f7VrkBVIy_eQ"
      }
    },
    {
      "cell_type": "code",
      "source": [],
      "metadata": {
        "id": "3n8_PnVuyodz"
      },
      "execution_count": null,
      "outputs": []
    },
    {
      "cell_type": "markdown",
      "source": [
        "## 考察"
      ],
      "metadata": {
        "id": "N4qRardO1N82"
      }
    },
    {
      "cell_type": "markdown",
      "source": [
        "極性辞書を用いて文章のネガポジ判定をすることが出来た。\n",
        "\n",
        "しかしながら精度は低く、ネガティブ判定が強いように見える。\n",
        "\n",
        "原因としてネガポジ判定する辞書が悪い、文脈を考慮していない。等の原因が考えられる。"
      ],
      "metadata": {
        "id": "2jCyf4lS1Qmv"
      }
    },
    {
      "cell_type": "markdown",
      "source": [
        "独自関数を教材通りではなく多少アレンジして実装も試みた。可読性が向上したが、独自関数で分からない部分もあるので復習する事。"
      ],
      "metadata": {
        "id": "XKllbeNF2MDA"
      }
    },
    {
      "cell_type": "markdown",
      "source": [
        "①　例えばこちらのlines = lines[:-2]としているが、上手く取り除かれていない事。"
      ],
      "metadata": {
        "id": "19v4hBXA2oVn"
      }
    },
    {
      "cell_type": "code",
      "source": [
        "import re\n",
        "mecab = MeCab.Tagger('-Owakati')                     # 分かち書きに指定\n",
        "def get_diclist(file):\n",
        "    parsed = mecab.parse(file)                       # 分かち書きを行います。\n",
        "    # 解析結果を改行ごとに区切ります\n",
        "    lines = parsed.split(' ')                        # 文章を\" \" 空行で区切っています。\n",
        "    lines = lines[:-2]                               # これが機能していない？\n",
        "    #解析結果のリストを作成します\n",
        "    diclist = []                                    # 解析結果はここに格納されます。\n",
        "    for word in lines:\n",
        "        datalist = {'BaseForm':word}                # 分かち書き結果をpick upして\"BaseForm\"というkey名を付けてvalueとして格納。\n",
        "        diclist.append(datalist)                    # 追加\n",
        "    return(diclist)\n"
      ],
      "metadata": {
        "id": "vUMAIhfQ2lPx"
      },
      "execution_count": null,
      "outputs": []
    },
    {
      "cell_type": "markdown",
      "source": [
        "こちらの部分の解釈など。　`if baseword in PN_dict:`"
      ],
      "metadata": {
        "id": "AxoCAndp24DY"
      }
    },
    {
      "cell_type": "code",
      "source": [
        "# 解析結果のリストからPNTableに存在する単語を抽出します\n",
        "\n",
        "def add_pnvalue(old_wordlist):\n",
        "    diclist_new = []\n",
        "    new_pn_list = []                                                   # 入れ物の作成\n",
        "    for word in old_wordlist:\n",
        "        baseword = word['BaseForm']                                    # old_wordlistの分かち書きされた単語達。\n",
        "        if baseword in PN_dict:                                        # in PN_dic⇒PN dict のkey \n",
        "            # PNTableに存在していれば極性値とその単語を追加します ⇒ floatにしている。 in dict python \n",
        "            pn = float(PN_dict[baseword])\n",
        "        else:\n",
        "            # 存在していなければnotfoundを明記します\n",
        "            pn = 'not found'\n",
        "        word['PN'] = pn                                                # 独自関数により新しく篩い分けられたpnを新たなPNのvalueとします。\n",
        "        diclist_new.append(word)\n",
        "    for d in diclist_new:                                              # ここのfor文で not found を間引いています。⇒ちょっと独自関数に無駄がないかな？\n",
        "      if d['PN'] != 'not found':\n",
        "        new_pn_list.append(d)   \n",
        "    \n",
        "    df = pd.DataFrame(new_pn_list)                                     # DFに変換しています。\n",
        "    return(df)"
      ],
      "metadata": {
        "id": "WjuPh3nI23L4"
      },
      "execution_count": null,
      "outputs": []
    }
  ]
}